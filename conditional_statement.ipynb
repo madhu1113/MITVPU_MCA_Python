{
 "cells": [
  {
   "cell_type": "code",
   "execution_count": 4,
   "id": "0d4e371f",
   "metadata": {},
   "outputs": [
    {
     "name": "stdout",
     "output_type": "stream",
     "text": [
      "Value of a is 10\n"
     ]
    }
   ],
   "source": [
    "a = 10\n",
    "if a==11:\n",
    "    print(\"This is my firsrt condition\")\n",
    "else:\n",
    "    print(\"Value of a is 10\")"
   ]
  },
  {
   "cell_type": "code",
   "execution_count": 6,
   "id": "00dce34b",
   "metadata": {},
   "outputs": [],
   "source": [
    "if a == 10:\n",
    "    pass"
   ]
  },
  {
   "cell_type": "code",
   "execution_count": 8,
   "id": "9852bfa2",
   "metadata": {},
   "outputs": [
    {
     "name": "stdout",
     "output_type": "stream",
     "text": [
      "Value of a is 10\n"
     ]
    }
   ],
   "source": [
    "\n",
    "a = 10\n",
    "if a==11:\n",
    "    print(\"This is my firsrt condition\")\n",
    "else:\n",
    "    print(\"Value of a is 10\")\n",
    "\n",
    "if a == 10:\n",
    "    pass"
   ]
  },
  {
   "cell_type": "code",
   "execution_count": 9,
   "id": "87b6c488",
   "metadata": {},
   "outputs": [
    {
     "name": "stdout",
     "output_type": "stream",
     "text": [
      "the value of a is 10\n"
     ]
    }
   ],
   "source": [
    "a = 10\n",
    "if a==12:\n",
    "    print(\"I am comparing 10 with 12\")\n",
    "elif a==10:\n",
    "    print(\"the value of a is 10\")\n",
    "else:\n",
    "    print(\"Not comapring with anyone\")"
   ]
  },
  {
   "cell_type": "code",
   "execution_count": null,
   "id": "9598bcb1",
   "metadata": {},
   "outputs": [],
   "source": [
    "Question\n",
    "# price  = 500\n",
    "# if grater than 500 :---> I can buy so many things\n",
    "# If less than 500 :----> I can't buy a Jacket\n",
    "# 500 :---> You can buy a jacket\n",
    "# Otherwise:-----> I don't know"
   ]
  },
  {
   "cell_type": "code",
   "execution_count": 12,
   "id": "0b6d1e1a",
   "metadata": {},
   "outputs": [
    {
     "name": "stdout",
     "output_type": "stream",
     "text": [
      "I can buy so many things\n"
     ]
    }
   ],
   "source": [
    "price=800\n",
    "if price>500:\n",
    "    print(\"I can buy so many things\")\n",
    "elif price<500:\n",
    "    print(\"I cant buy jacket\")\n",
    "elif price == 500:\n",
    "    print(\"I can buy jacket\")\n",
    "else:\n",
    "    print(\"I Donk Know\")"
   ]
  },
  {
   "cell_type": "code",
   "execution_count": null,
   "id": "5036d53f",
   "metadata": {},
   "outputs": [],
   "source": [
    "# Q.  l = [1,2,3,4]\n",
    "# check 1---> do the addition\n",
    "# check 2---> sub\n",
    "# check 3--> mul\n",
    "# check 4---> division\n",
    "# othwise ---> do nothing"
   ]
  },
  {
   "cell_type": "code",
   "execution_count": 13,
   "id": "b1718562",
   "metadata": {},
   "outputs": [
    {
     "name": "stdout",
     "output_type": "stream",
     "text": [
      "i can buy jacket\n"
     ]
    }
   ],
   "source": [
    "# Tejas\n",
    "price = 500\n",
    "if price>500:\n",
    "    print(\"i can buy so many things\") \n",
    "elif price<500:\n",
    "    print(\"i cant by a jacket\")\n",
    "elif price==500:\n",
    "    print(\"i can buy jacket\")\n",
    "else:\n",
    "    print(\"i dont know\")"
   ]
  },
  {
   "cell_type": "code",
   "execution_count": 14,
   "id": "7c1d9502",
   "metadata": {},
   "outputs": [],
   "source": [
    "# Q. Take input from user\n",
    "# if \n"
   ]
  },
  {
   "cell_type": "code",
   "execution_count": 16,
   "id": "4ac7b351",
   "metadata": {},
   "outputs": [
    {
     "name": "stdout",
     "output_type": "stream",
     "text": [
      "do the addition\n"
     ]
    }
   ],
   "source": [
    "l = [1,2,3,4,5]\n",
    "if 1 in l:\n",
    "    print(\"do the addition\")\n",
    "elif 2 in l:\n",
    "    print(\"do substarction\")\n",
    "elif 3 in l:\n",
    "    print(\"do multiplication\")\n",
    "elif 4 in l:\n",
    "    print(\"do division\")\n",
    "# else:\n",
    "#     print(\"do nothing\")"
   ]
  },
  {
   "cell_type": "code",
   "execution_count": 19,
   "id": "ae05e108",
   "metadata": {},
   "outputs": [
    {
     "name": "stdout",
     "output_type": "stream",
     "text": [
      "Do Nothing\n"
     ]
    }
   ],
   "source": [
    "l = [23,45,67,89,12,34]\n",
    "if 11 in l:\n",
    "    print(\"Do something\")\n",
    "else:\n",
    "    print(\"Do Nothing\")"
   ]
  },
  {
   "cell_type": "code",
   "execution_count": 26,
   "id": "a5c974cc",
   "metadata": {},
   "outputs": [
    {
     "name": "stdout",
     "output_type": "stream",
     "text": [
      "34\n"
     ]
    }
   ],
   "source": [
    "# To take input from user\n",
    "a = int(input())"
   ]
  },
  {
   "cell_type": "code",
   "execution_count": 27,
   "id": "5fbdeef2",
   "metadata": {},
   "outputs": [
    {
     "data": {
      "text/plain": [
       "34"
      ]
     },
     "execution_count": 27,
     "metadata": {},
     "output_type": "execute_result"
    }
   ],
   "source": [
    "a"
   ]
  },
  {
   "cell_type": "code",
   "execution_count": null,
   "id": "1f680926",
   "metadata": {},
   "outputs": [],
   "source": [
    "# price: user input\n",
    "#     1000+ ----> He can buy many things.\n",
    "# 800-1000---> He can buy a Shoes\n",
    "# 500-800:---> He can buy a Jeans\n",
    "# 300-500:----> He can Buy a Shirt\n",
    "# 100-300:--> He can buy a gogs.\n",
    "# 100 ---> Vada pau khao\n",
    "# otherwise--> Get out of my shop"
   ]
  },
  {
   "cell_type": "code",
   "execution_count": null,
   "id": "e8fa2bde",
   "metadata": {},
   "outputs": [],
   "source": [
    "# Marks: User input\n",
    "#     GRE cut off:---> 600\n",
    "#     TOFEL Cut off:---> 400\n",
    "#         Try something else:---> 400-\n",
    "        \n",
    "#     600+ ---> Congratulations you have cleared GRE and TOFEL.\n",
    "#     600- ---> Sorry You couldn't clear GRE. Work Hard.\n",
    "#     400+ ----> Cleared TOFEL\n",
    "#     400- ----? Try something else\n",
    "\n",
    "    "
   ]
  },
  {
   "cell_type": "code",
   "execution_count": 33,
   "id": "283b5f71",
   "metadata": {},
   "outputs": [
    {
     "name": "stdout",
     "output_type": "stream",
     "text": [
      "23\n",
      "Bhaag jao\n"
     ]
    }
   ],
   "source": [
    "p = int(input())\n",
    "\n",
    "if p>1000:\n",
    "    print(\"He can buy anything \")\n",
    "elif p>800 and p<1000:\n",
    "    print(\"he can buy shoe\")\n",
    "elif p>500 and p<800:\n",
    "    print(\"he can buy a jeans\")\n",
    "elif p>300 and p<500:\n",
    "    print(\"he can buy a shirt\")\n",
    "elif p>100 and p<300:\n",
    "    print(\"he can buy goggles\")\n",
    "else:\n",
    "    print(\"Bhaag jao\")"
   ]
  },
  {
   "cell_type": "code",
   "execution_count": 60,
   "id": "5dda7d6c",
   "metadata": {},
   "outputs": [
    {
     "name": "stdout",
     "output_type": "stream",
     "text": [
      "100\n",
      "Vadapao\n"
     ]
    }
   ],
   "source": [
    "# price: user input\n",
    "#     1000+ ----> He can buy many things.\n",
    "# 800-1000---> He can buy a Shoes (801---1000)\n",
    "# 500-800:---> He can buy a Jeans (501---800)\n",
    "# 300-500:----> He can Buy a Shirt (301---500)\n",
    "# 100-300:--> He can buy a gogs.(101 ----300)\n",
    "# 50--100 ---> Vada pau khao.(51----100)\n",
    "# otherwise--> Get out of my shop(50-)\n",
    "\n",
    "price = int(input())\n",
    "\n",
    "if price <=50:\n",
    "    print(\"Bhag Jao\")\n",
    "elif price <=100: \n",
    "    print(\"Vadapao\")\n",
    "elif price <= 300:\n",
    "        print(\"Gogs\")\n",
    "elif price <= 500:\n",
    "        print(\"Shirt\")\n",
    "elif price <= 800:\n",
    "        print(\"Jeans\")\n",
    "elif price <= 1000:\n",
    "        print(\"Shoes\")\n",
    "else:\n",
    "    print(\"Buy Many Things\")\n",
    "\n",
    "    \n"
   ]
  },
  {
   "cell_type": "code",
   "execution_count": null,
   "id": "bb45300a",
   "metadata": {},
   "outputs": [],
   "source": []
  },
  {
   "cell_type": "code",
   "execution_count": null,
   "id": "11349cab",
   "metadata": {},
   "outputs": [],
   "source": []
  },
  {
   "cell_type": "code",
   "execution_count": null,
   "id": "255dd4d2",
   "metadata": {},
   "outputs": [],
   "source": []
  }
 ],
 "metadata": {
  "kernelspec": {
   "display_name": "Python 3 (ipykernel)",
   "language": "python",
   "name": "python3"
  },
  "language_info": {
   "codemirror_mode": {
    "name": "ipython",
    "version": 3
   },
   "file_extension": ".py",
   "mimetype": "text/x-python",
   "name": "python",
   "nbconvert_exporter": "python",
   "pygments_lexer": "ipython3",
   "version": "3.9.12"
  }
 },
 "nbformat": 4,
 "nbformat_minor": 5
}
