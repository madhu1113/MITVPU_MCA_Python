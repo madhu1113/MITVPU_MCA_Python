{
 "cells": [
  {
   "cell_type": "code",
   "execution_count": 10,
   "id": "2603df3f",
   "metadata": {},
   "outputs": [
    {
     "name": "stdout",
     "output_type": "stream",
     "text": [
      "ENter first number45\n",
      "ENter second number0\n",
      "division by zero\n",
      "ENter first number45\n",
      "ENter second number90\n",
      "0.5\n"
     ]
    }
   ],
   "source": [
    "while True:\n",
    "    try:\n",
    "        a = int(input(\"ENter first number\"))\n",
    "        b = int(input(\"ENter second number\"))\n",
    "        c = a/b\n",
    "        print(c)\n",
    "        break\n",
    "        \n",
    "    except ValueError as e:\n",
    "        print(e)\n",
    "    except ZeroDivisionError as e:\n",
    "        print(e)\n",
    "        \n",
    "        "
   ]
  },
  {
   "cell_type": "code",
   "execution_count": 11,
   "id": "1d55d6e1",
   "metadata": {},
   "outputs": [
    {
     "name": "stdout",
     "output_type": "stream",
     "text": [
      "ENter first numbermadhu\n",
      "invalid literal for int() with base 10: 'madhu'\n",
      "ENter first number45\n",
      "ENter second number0\n",
      "division by zero\n",
      "ENter first number45\n",
      "ENter second number34\n",
      "1.3235294117647058\n"
     ]
    }
   ],
   "source": [
    "while True:\n",
    "    try:\n",
    "        a = int(input(\"ENter first number\"))\n",
    "        b = int(input(\"ENter second number\"))\n",
    "        c = a/b\n",
    "        print(c)\n",
    "        break\n",
    "        \n",
    "    except (ValueError, ZeroDivisionError) as e:\n",
    "        print(e)"
   ]
  },
  {
   "cell_type": "code",
   "execution_count": null,
   "id": "adddbb02",
   "metadata": {},
   "outputs": [
    {
     "name": "stdout",
     "output_type": "stream",
     "text": [
      "ENter first numbermadhu\n",
      "exception class:  <class 'ValueError'>\n",
      "exception message:  invalid literal for int() with base 10: 'madhu'\n",
      "Line no.:  5\n",
      "ENter first number45\n",
      "ENter second number0\n",
      "exception class:  <class 'ZeroDivisionError'>\n",
      "exception message:  division by zero\n",
      "Line no.:  7\n"
     ]
    }
   ],
   "source": [
    "# Find out the class of exception, exception message, line no.\n",
    "import sys\n",
    "while True:\n",
    "    try:\n",
    "        a = int(input(\"ENter first number\"))\n",
    "        b = int(input(\"ENter second number\"))\n",
    "        c = a/b\n",
    "        print(c)\n",
    "        break\n",
    "        \n",
    "    except:\n",
    "        a,b,c = sys.exc_info()\n",
    "        print(\"exception class: \", a)\n",
    "        print(\"exception message: \", b)\n",
    "        print(\"Line no.: \", c.tb_lineno)\n",
    "        \n",
    "        \n",
    "    \n"
   ]
  },
  {
   "cell_type": "code",
   "execution_count": 1,
   "id": "aa75bcc1",
   "metadata": {},
   "outputs": [],
   "source": [
    "a,b,c = 2,3,4"
   ]
  },
  {
   "cell_type": "code",
   "execution_count": 2,
   "id": "c9bba1a3",
   "metadata": {},
   "outputs": [
    {
     "data": {
      "text/plain": [
       "2"
      ]
     },
     "execution_count": 2,
     "metadata": {},
     "output_type": "execute_result"
    }
   ],
   "source": [
    "a"
   ]
  },
  {
   "cell_type": "code",
   "execution_count": 3,
   "id": "c9b9dc2a",
   "metadata": {},
   "outputs": [
    {
     "data": {
      "text/plain": [
       "3"
      ]
     },
     "execution_count": 3,
     "metadata": {},
     "output_type": "execute_result"
    }
   ],
   "source": [
    "b"
   ]
  },
  {
   "cell_type": "code",
   "execution_count": 4,
   "id": "97b83ab5",
   "metadata": {},
   "outputs": [
    {
     "data": {
      "text/plain": [
       "4"
      ]
     },
     "execution_count": 4,
     "metadata": {},
     "output_type": "execute_result"
    }
   ],
   "source": [
    "c"
   ]
  },
  {
   "cell_type": "code",
   "execution_count": 2,
   "id": "9168ff0d",
   "metadata": {},
   "outputs": [
    {
     "name": "stdout",
     "output_type": "stream",
     "text": [
      "ENter first number45\n",
      "ENter second number0\n",
      "Traceback (most recent call last):\n",
      "  File \"/var/folders/y4/6_3sgdc945dcscpnt6p8q7100000gn/T/ipykernel_9335/1476369043.py\", line 6, in <cell line: 3>\n",
      "    c = a/b\n",
      "ZeroDivisionError: division by zero\n",
      "\n",
      "ENter first numbermadhu\n",
      "Traceback (most recent call last):\n",
      "  File \"/var/folders/y4/6_3sgdc945dcscpnt6p8q7100000gn/T/ipykernel_9335/1476369043.py\", line 4, in <cell line: 3>\n",
      "    a = int(input(\"ENter first number\"))\n",
      "ValueError: invalid literal for int() with base 10: 'madhu'\n",
      "\n",
      "ENter first number78\n",
      "ENter second number67\n",
      "1.164179104477612\n"
     ]
    }
   ],
   "source": [
    "import traceback\n",
    "while True:\n",
    "    try:\n",
    "        a = int(input(\"ENter first number\"))\n",
    "        b = int(input(\"ENter second number\"))\n",
    "        c = a/b\n",
    "        print(c)\n",
    "        break\n",
    "    except:\n",
    "        print(traceback.format_exc())\n"
   ]
  },
  {
   "cell_type": "code",
   "execution_count": 2,
   "id": "bb15849b",
   "metadata": {},
   "outputs": [
    {
     "name": "stdout",
     "output_type": "stream",
     "text": [
      "ENter first number89\n",
      "ENter second number0\n",
      "division by zero\n",
      "ENter first numbermasdu\n",
      "invalid literal for int() with base 10: 'masdu'\n",
      "ENter first number45\n",
      "ENter second number-34\n",
      "negative number not allowed\n",
      "ENter first number45\n",
      "ENter second number67\n",
      "div is c : 0.6716417910447762\n"
     ]
    }
   ],
   "source": [
    "# raise exception ---> custom exception\n",
    "while True:\n",
    "    try:\n",
    "        a = int(input(\"ENter first number\"))\n",
    "        b = int(input(\"ENter second number\"))\n",
    "        if a<0 or b<0:\n",
    "            raise Exception(\"negative number not allowed\")\n",
    "        c = a/b\n",
    "        print(\"div is c :\",c)\n",
    "        break\n",
    "    \n",
    "    except ValueError as e:\n",
    "        print(e)\n",
    "    except ZeroDivisionError as e:\n",
    "        print(e) \n",
    "    except Exception as e:\n",
    "        print(e)"
   ]
  },
  {
   "cell_type": "code",
   "execution_count": 14,
   "id": "ee2ff32a",
   "metadata": {},
   "outputs": [
    {
     "name": "stdout",
     "output_type": "stream",
     "text": [
      "ENter first number67\n",
      "ENter second number89\n",
      "0.7528089887640449\n",
      "Hello\n",
      "Python\n"
     ]
    }
   ],
   "source": [
    "# finally --> run at any cost i.e in any condition\n",
    "try:\n",
    "    a = int(input(\"ENter first number\"))\n",
    "    b = int(input(\"ENter second number\"))\n",
    "    c = a/b\n",
    "    print(c)\n",
    "\n",
    "except ValueError as e:\n",
    "    print(e)\n",
    "except ZeroDivisionError as e:\n",
    "    print(e)\n",
    "\n",
    "finally:\n",
    "    print(\"Hello\")\n",
    "    print(\"Python\")"
   ]
  },
  {
   "cell_type": "code",
   "execution_count": 5,
   "id": "df063854",
   "metadata": {},
   "outputs": [
    {
     "name": "stdout",
     "output_type": "stream",
     "text": [
      "ENter first number45\n",
      "ENter second number90\n",
      "0.5\n",
      "Python\n",
      "Hello\n"
     ]
    }
   ],
   "source": [
    "# else--> only if we are giving the correct i/p.\n",
    "try:\n",
    "    a = int(input(\"ENter first number\"))\n",
    "    b = int(input(\"ENter second number\"))\n",
    "    c = a/b\n",
    "    print(c)\n",
    "except:\n",
    "    print(\"Don't use denominator as zero\")\n",
    "else:\n",
    "    print(\"Python\")\n",
    "\n",
    "finally:\n",
    "    print(\"Hello\")"
   ]
  },
  {
   "cell_type": "code",
   "execution_count": null,
   "id": "ecd84163",
   "metadata": {},
   "outputs": [],
   "source": []
  }
 ],
 "metadata": {
  "kernelspec": {
   "display_name": "Python 3 (ipykernel)",
   "language": "python",
   "name": "python3"
  },
  "language_info": {
   "codemirror_mode": {
    "name": "ipython",
    "version": 3
   },
   "file_extension": ".py",
   "mimetype": "text/x-python",
   "name": "python",
   "nbconvert_exporter": "python",
   "pygments_lexer": "ipython3",
   "version": "3.9.12"
  }
 },
 "nbformat": 4,
 "nbformat_minor": 5
}
