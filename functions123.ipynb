{
 "cells": [
  {
   "cell_type": "code",
   "execution_count": 3,
   "id": "4aeb957f",
   "metadata": {},
   "outputs": [],
   "source": [
    "# # C\n",
    "# int main(){\n",
    "    \n",
    "# }\n",
    "#  Python function--> Why do we use function? \n",
    "def test():\n",
    "    print(\"This is my first function\")\n",
    "    print(\"Hello\")"
   ]
  },
  {
   "cell_type": "code",
   "execution_count": 4,
   "id": "fa8114be",
   "metadata": {},
   "outputs": [
    {
     "name": "stdout",
     "output_type": "stream",
     "text": [
      "This is my first function\n",
      "Hello\n"
     ]
    }
   ],
   "source": [
    "test()"
   ]
  },
  {
   "cell_type": "code",
   "execution_count": 5,
   "id": "b30871ca",
   "metadata": {},
   "outputs": [
    {
     "name": "stdout",
     "output_type": "stream",
     "text": [
      "This is my first function\n",
      "Hello\n"
     ]
    },
    {
     "data": {
      "text/plain": [
       "NoneType"
      ]
     },
     "execution_count": 5,
     "metadata": {},
     "output_type": "execute_result"
    }
   ],
   "source": [
    "type(test())"
   ]
  },
  {
   "cell_type": "code",
   "execution_count": 6,
   "id": "fd2790ff",
   "metadata": {},
   "outputs": [
    {
     "name": "stdout",
     "output_type": "stream",
     "text": [
      "This is my first function\n",
      "Hello\n"
     ]
    },
    {
     "ename": "TypeError",
     "evalue": "unsupported operand type(s) for +: 'NoneType' and 'str'",
     "output_type": "error",
     "traceback": [
      "\u001b[0;31m---------------------------------------------------------------------------\u001b[0m",
      "\u001b[0;31mTypeError\u001b[0m                                 Traceback (most recent call last)",
      "Input \u001b[0;32mIn [6]\u001b[0m, in \u001b[0;36m<cell line: 1>\u001b[0;34m()\u001b[0m\n\u001b[0;32m----> 1\u001b[0m \u001b[43mtest\u001b[49m\u001b[43m(\u001b[49m\u001b[43m)\u001b[49m\u001b[38;5;241;43m+\u001b[39;49m\u001b[38;5;124;43m\"\u001b[39;49m\u001b[38;5;124;43mMadhu\u001b[39;49m\u001b[38;5;124;43m\"\u001b[39;49m\n",
      "\u001b[0;31mTypeError\u001b[0m: unsupported operand type(s) for +: 'NoneType' and 'str'"
     ]
    }
   ],
   "source": [
    "test()+\"Madhu\""
   ]
  },
  {
   "cell_type": "code",
   "execution_count": 9,
   "id": "1400263c",
   "metadata": {},
   "outputs": [],
   "source": [
    "def test1():\n",
    "    return 3,4,5,6, [23,45,67,78,89]"
   ]
  },
  {
   "cell_type": "code",
   "execution_count": 17,
   "id": "bd94cd68",
   "metadata": {},
   "outputs": [],
   "source": [
    "a,b,c,d,e = test1()"
   ]
  },
  {
   "cell_type": "code",
   "execution_count": 18,
   "id": "f0e3a5cb",
   "metadata": {},
   "outputs": [
    {
     "data": {
      "text/plain": [
       "3"
      ]
     },
     "execution_count": 18,
     "metadata": {},
     "output_type": "execute_result"
    }
   ],
   "source": [
    "a"
   ]
  },
  {
   "cell_type": "code",
   "execution_count": 20,
   "id": "52d20f18",
   "metadata": {},
   "outputs": [
    {
     "data": {
      "text/plain": [
       "[23, 45, 67, 78, 89]"
      ]
     },
     "execution_count": 20,
     "metadata": {},
     "output_type": "execute_result"
    }
   ],
   "source": [
    "e"
   ]
  },
  {
   "cell_type": "code",
   "execution_count": 13,
   "id": "0a5f31d2",
   "metadata": {},
   "outputs": [
    {
     "data": {
      "text/plain": [
       "10"
      ]
     },
     "execution_count": 13,
     "metadata": {},
     "output_type": "execute_result"
    }
   ],
   "source": [
    "a"
   ]
  },
  {
   "cell_type": "code",
   "execution_count": 14,
   "id": "da887df2",
   "metadata": {},
   "outputs": [
    {
     "data": {
      "text/plain": [
       "20"
      ]
     },
     "execution_count": 14,
     "metadata": {},
     "output_type": "execute_result"
    }
   ],
   "source": [
    "b"
   ]
  },
  {
   "cell_type": "code",
   "execution_count": 15,
   "id": "0f7546f6",
   "metadata": {},
   "outputs": [],
   "source": [
    "a, b,c,_,d = 12,34,56,78,34"
   ]
  },
  {
   "cell_type": "code",
   "execution_count": 16,
   "id": "2ce721a9",
   "metadata": {},
   "outputs": [
    {
     "data": {
      "text/plain": [
       "12"
      ]
     },
     "execution_count": 16,
     "metadata": {},
     "output_type": "execute_result"
    }
   ],
   "source": [
    "a"
   ]
  },
  {
   "cell_type": "code",
   "execution_count": 21,
   "id": "9e6b9043",
   "metadata": {},
   "outputs": [],
   "source": [
    "def test2():\n",
    "    a = 4*5\n",
    "    b = 6+4\n",
    "    return a,b"
   ]
  },
  {
   "cell_type": "code",
   "execution_count": 25,
   "id": "e2589409",
   "metadata": {},
   "outputs": [],
   "source": [
    "d,e = test2()"
   ]
  },
  {
   "cell_type": "code",
   "execution_count": 26,
   "id": "141ad65f",
   "metadata": {},
   "outputs": [
    {
     "data": {
      "text/plain": [
       "20"
      ]
     },
     "execution_count": 26,
     "metadata": {},
     "output_type": "execute_result"
    }
   ],
   "source": [
    "d"
   ]
  },
  {
   "cell_type": "code",
   "execution_count": 27,
   "id": "08203020",
   "metadata": {},
   "outputs": [
    {
     "data": {
      "text/plain": [
       "10"
      ]
     },
     "execution_count": 27,
     "metadata": {},
     "output_type": "execute_result"
    }
   ],
   "source": [
    "e"
   ]
  },
  {
   "cell_type": "code",
   "execution_count": 29,
   "id": "3a290a31",
   "metadata": {},
   "outputs": [
    {
     "name": "stdout",
     "output_type": "stream",
     "text": [
      "2\n",
      "4\n",
      "6\n",
      "8\n",
      "10\n",
      "12\n",
      "14\n",
      "16\n",
      "18\n",
      "loop exhausted\n"
     ]
    }
   ],
   "source": [
    "a = 2\n",
    "b = 20\n",
    "while a<b:\n",
    "    print(a)\n",
    "    a = a+2\n",
    "    \n",
    "else:\n",
    "    print(\"loop exhausted\")"
   ]
  },
  {
   "cell_type": "code",
   "execution_count": 30,
   "id": "74dd78fb",
   "metadata": {},
   "outputs": [],
   "source": [
    "# Do the same thing using function\n",
    "def test3():\n",
    "    a = 2\n",
    "    b = 20\n",
    "    while a<b:\n",
    "        print(a)\n",
    "        a = a+2\n",
    "    else:\n",
    "        print(\"loop exhausted\")\n"
   ]
  },
  {
   "cell_type": "code",
   "execution_count": 31,
   "id": "c9e2640e",
   "metadata": {},
   "outputs": [
    {
     "name": "stdout",
     "output_type": "stream",
     "text": [
      "2\n",
      "4\n",
      "6\n",
      "8\n",
      "10\n",
      "12\n",
      "14\n",
      "16\n",
      "18\n",
      "loop exhausted\n"
     ]
    }
   ],
   "source": [
    "test3()"
   ]
  },
  {
   "cell_type": "code",
   "execution_count": 32,
   "id": "1481c89e",
   "metadata": {},
   "outputs": [
    {
     "name": "stdout",
     "output_type": "stream",
     "text": [
      "2\n",
      "4\n",
      "6\n",
      "8\n",
      "10\n",
      "12\n",
      "14\n",
      "16\n",
      "18\n",
      "loop exhausted\n"
     ]
    }
   ],
   "source": [
    "# Do the same thing using parameter passing\n",
    "def test3(a,b):\n",
    "    while a<b:\n",
    "        print(a)\n",
    "        a = a+2\n",
    "    else:\n",
    "        print(\"loop exhausted\")\n",
    "\n",
    "    \n",
    "test3(2,20)"
   ]
  },
  {
   "cell_type": "code",
   "execution_count": 36,
   "id": "58c2fe0b",
   "metadata": {},
   "outputs": [
    {
     "name": "stdout",
     "output_type": "stream",
     "text": [
      "loop exhausted\n"
     ]
    },
    {
     "data": {
      "text/plain": [
       "[2, 4, 6, 8, 10, 12, 14, 16, 18]"
      ]
     },
     "execution_count": 36,
     "metadata": {},
     "output_type": "execute_result"
    }
   ],
   "source": [
    "#Get this output(in the form of list) using function\n",
    "#[2, 4, 6,8, 10,12,14,16,18]\n",
    "\n",
    "def test3(a,b):\n",
    "    l=[]\n",
    "    while a<b:\n",
    "        l.append(a)\n",
    "        a = a+2\n",
    "    else:\n",
    "        print(\"loop exhausted\")\n",
    "    return l\n",
    "\n",
    "    \n",
    "test3(2,20)"
   ]
  },
  {
   "cell_type": "code",
   "execution_count": 37,
   "id": "3bdb973a",
   "metadata": {},
   "outputs": [],
   "source": [
    "# l1 = [4,5,6,7,3,\"madhu\",23,[3,4,5,\"Tejas\"],17,\"Vaibhav\"]\n",
    "# Q. check if it is am integer if so add into list\n",
    "# o/p\n",
    "# l = [4,5,6,7,3, 23,17]"
   ]
  },
  {
   "cell_type": "code",
   "execution_count": 43,
   "id": "6c456212",
   "metadata": {},
   "outputs": [],
   "source": [
    "def test3():\n",
    "    a=2\n",
    "    b=20\n",
    "    while a<b:\n",
    "        print(a)\n",
    "        a=a+2\n",
    "    else:\n",
    "        print(\"loop exhausted\")\n"
   ]
  },
  {
   "cell_type": "code",
   "execution_count": 53,
   "id": "a3c6080a",
   "metadata": {},
   "outputs": [],
   "source": [
    "l1 = [4,5,6,7,3,\"madhu\",23,[3,4,5,\"Tejas\"],17,\"Vaibhav\"]"
   ]
  },
  {
   "cell_type": "code",
   "execution_count": 54,
   "id": "12be5a26",
   "metadata": {},
   "outputs": [],
   "source": [
    "\n",
    "def test5():\n",
    "    \n",
    "    l2  = []\n",
    "    for i in l1:\n",
    "        if type(i) == int:\n",
    "            l2.append(i)\n",
    "    return l2\n"
   ]
  },
  {
   "cell_type": "code",
   "execution_count": 55,
   "id": "6e35b47d",
   "metadata": {},
   "outputs": [
    {
     "data": {
      "text/plain": [
       "[4, 5, 6, 7, 3, 23, 17]"
      ]
     },
     "execution_count": 55,
     "metadata": {},
     "output_type": "execute_result"
    }
   ],
   "source": [
    "test5()"
   ]
  },
  {
   "cell_type": "code",
   "execution_count": 46,
   "id": "9fcc409a",
   "metadata": {},
   "outputs": [
    {
     "name": "stdout",
     "output_type": "stream",
     "text": [
      "loop exhausted\n",
      "[2, 4, 6, 8, 10, 12, 14, 16, 18]\n"
     ]
    }
   ],
   "source": [
    "# Tejas\n",
    "def test3(a,b):\n",
    "    l=[]\n",
    "    while a<b:\n",
    "        l.append(a)\n",
    "        a = a+2\n",
    "    else:\n",
    "        print(\"loop exhausted\")\n",
    "        print(l)\n",
    "\n",
    "    \n",
    "test3(2,20)"
   ]
  },
  {
   "cell_type": "code",
   "execution_count": 56,
   "id": "7a7ef135",
   "metadata": {},
   "outputs": [],
   "source": [
    "#h/w\n",
    "# Q. t = (3,4,5,6,7,8,20)\n",
    "# find the negative index of 6 and 7 using function"
   ]
  },
  {
   "cell_type": "code",
   "execution_count": 102,
   "id": "7e97cd23",
   "metadata": {},
   "outputs": [
    {
     "data": {
      "text/plain": [
       "'Date of submission:--> 24th of March 2024 before midnight(12:00)\\nYour First Assignment : \\n    \\n    \\nq1 : Try to print this by using while loop \\n* \\n* * \\n* * * \\n* * * * \\n* * * * * \\n* * * * * * \\n* * * * * * * \\n* * * * * * * * \\n* * * * * * * * * \\n\\nq2 : try to print below by using while loop : \\n        \\nA\\nB H \\nC I N\\nD J o S\\nE K p T W\\nF L Q U X z\\nG M R V Y \\n\\nq3 : Try to print all the number divisible by 3 in between a range of 40 - 400\\n    \\nq4 : Try to filter out all the vowels form below text by using while loop : \\n\\n Python is a high-level, interpreted, general-purpose programming language. Its design philosophy emphasizes code readability with the use of significant indentation.[32]\\n\\nPython is dynamically-typed and garbage-collected. It supports multiple programming paradigms, including structured (particularly procedural), object-oriented and functional programming. It is often described as a \"batteries included\" language due to its comprehensive standard library.[33][34]\\n\\nGuido van Rossum began working on Python in the late 1980s as a successor to the ABC programming language and first released it in 1991 as Python 0.9.0.[35] Python 2.0 was released in 2000 and introduced new features such as list comprehensions, cycle-detecting garbage collection, reference counting, and Unicode support. Python 3.0, released in 2008, was a major revision that is not completely backward-compatible with earlier versions. Python 2 was discontinued with version 2.7.18 in 2020.[36]\\n\\nPython consistently ranks as one of the most popular programming languagesc\\n\\n\\nq5 : Try to generate all the even number between 1- 1000\\n\\nq6 : Define a function for all the above problem statememnt  . \\n    \\nq7 : write a code to get a time of your system \\n\\nq8 : Write a code to fetch date form your system \\n\\nq9 : Write a code to send a mail to your friend \\n\\nq10 : write a code to trigger alarm for you at scheduled time \\n\\nq11 : write a code to check ip address of your system \\n\\nq12 : Write a code to check a particular installation in your system\\n\\nq13 : Write a code to convert any text in to voice. \\n\\nq14 : you have to write a fun which will take string and return a len of \\nit without using a inbuilt fun len\\n\\nq15 :write a fun which will be able to print an index of all primitive element which you will pass. \\n\\nq16 : Write a fun which will take input as a dict and give me out as a list of all the values \\neven in case of 2 level nesting it should work . \\n\\nq17 : write a function whihc will take multiple list as a input and give me concatnation of all the element as \\nand output\\n\\nq18 : Write a function which will whould return list of all the file name from a directory . \\n\\nq19 : write a function whihc will be able to read a image file and show it to you .\\n    \\nq20 : write a function by which you will be able to append two PDF files . \\n    \\nq21 : write a function which can help you to filter only word file from a directory . \\n    \\nq22 : write a function which can read video file and play for you . \\n    \\nq23 : write a function which will be able to shutdonw your system . \\n\\nq24 : Write a function which will whould return list of all the file name from a directory . \\n\\nq25 : write a function whihc will be able to access your mail .'"
      ]
     },
     "execution_count": 102,
     "metadata": {},
     "output_type": "execute_result"
    }
   ],
   "source": [
    "\"\"\" Date of submission:--> 24th of March 2024 before midnight(12:00)\n",
    "Your First Assignment : \n",
    "    \n",
    "    \n",
    "q1 : Try to print this by using while loop \n",
    "* \n",
    "* * \n",
    "* * * \n",
    "* * * * \n",
    "* * * * * \n",
    "* * * * * * \n",
    "* * * * * * * \n",
    "* * * * * * * * \n",
    "* * * * * * * * * \n",
    "\n",
    "q2 : try to print below by using while loop : \n",
    "        \n",
    "A\n",
    "B H \n",
    "C I N\n",
    "D J o S\n",
    "E K p T W\n",
    "F L Q U X z\n",
    "G M R V Y \n",
    "\n",
    "q3 : Try to print all the number divisible by 3 in between a range of 40 - 400\n",
    "    \n",
    "q4 : Try to filter out all the vowels form below text by using while loop : \n",
    "\n",
    " Python is a high-level, interpreted, general-purpose programming language. Its design philosophy emphasizes code readability with the use of significant indentation.[32]\n",
    "\n",
    "Python is dynamically-typed and garbage-collected. It supports multiple programming paradigms, including structured (particularly procedural), object-oriented and functional programming. It is often described as a \"batteries included\" language due to its comprehensive standard library.[33][34]\n",
    "\n",
    "Guido van Rossum began working on Python in the late 1980s as a successor to the ABC programming language and first released it in 1991 as Python 0.9.0.[35] Python 2.0 was released in 2000 and introduced new features such as list comprehensions, cycle-detecting garbage collection, reference counting, and Unicode support. Python 3.0, released in 2008, was a major revision that is not completely backward-compatible with earlier versions. Python 2 was discontinued with version 2.7.18 in 2020.[36]\n",
    "\n",
    "Python consistently ranks as one of the most popular programming languagesc\n",
    "\n",
    "\n",
    "q5 : Try to generate all the even number between 1- 1000\n",
    "\n",
    "q6 : Define a function for all the above problem statememnt  . \n",
    "    \n",
    "q7 : write a code to get a time of your system \n",
    "\n",
    "q8 : Write a code to fetch date form your system \n",
    "\n",
    "q9 : Write a code to send a mail to your friend \n",
    "\n",
    "q10 : write a code to trigger alarm for you at scheduled time \n",
    "\n",
    "q11 : write a code to check ip address of your system \n",
    "\n",
    "q12 : Write a code to check a particular installation in your system\n",
    "\n",
    "q13 : Write a code to convert any text in to voice. \n",
    "\n",
    "q14 : you have to write a fun which will take string and return a len of \n",
    "it without using a inbuilt fun len\n",
    "\n",
    "q15 :write a fun which will be able to print an index of all primitive element which you will pass. \n",
    "\n",
    "q16 : Write a fun which will take input as a dict and give me out as a list of all the values \n",
    "even in case of 2 level nesting it should work . \n",
    "\n",
    "q17 : write a function whihc will take multiple list as a input and give me concatnation of all the element as \n",
    "and output\n",
    "\n",
    "q18 : Write a function which will whould return list of all the file name from a directory . \n",
    "\n",
    "q19 : write a function whihc will be able to read a image file and show it to you .\n",
    "    \n",
    "q20 : write a function by which you will be able to append two PDF files . \n",
    "    \n",
    "q21 : write a function which can help you to filter only word file from a directory . \n",
    "    \n",
    "q22 : write a function which can read video file and play for you . \n",
    "    \n",
    "q23 : write a function which will be able to shutdonw your system . \n",
    "\n",
    "q24 : Write a function which will whould return list of all the file name from a directory . \n",
    "\n",
    "q25 : write a function whihc will be able to access your mail .\"\"\"\n",
    "    \n",
    "    "
   ]
  },
  {
   "cell_type": "code",
   "execution_count": 60,
   "id": "1bd733b7",
   "metadata": {},
   "outputs": [],
   "source": [
    "def test(a,b):\n",
    "    return a+b"
   ]
  },
  {
   "cell_type": "code",
   "execution_count": 68,
   "id": "c19d0a3d",
   "metadata": {},
   "outputs": [
    {
     "data": {
      "text/plain": [
       "19"
      ]
     },
     "execution_count": 68,
     "metadata": {},
     "output_type": "execute_result"
    }
   ],
   "source": [
    "test(9,10)"
   ]
  },
  {
   "cell_type": "code",
   "execution_count": 64,
   "id": "8c302233",
   "metadata": {},
   "outputs": [
    {
     "data": {
      "text/plain": [
       "'Tejas9'"
      ]
     },
     "execution_count": 64,
     "metadata": {},
     "output_type": "execute_result"
    }
   ],
   "source": [
    "test(\"Tejas\", \"9\")"
   ]
  },
  {
   "cell_type": "code",
   "execution_count": 66,
   "id": "19232b6f",
   "metadata": {},
   "outputs": [
    {
     "ename": "TypeError",
     "evalue": "test() got an unexpected keyword argument 'c'",
     "output_type": "error",
     "traceback": [
      "\u001b[0;31m---------------------------------------------------------------------------\u001b[0m",
      "\u001b[0;31mTypeError\u001b[0m                                 Traceback (most recent call last)",
      "Input \u001b[0;32mIn [66]\u001b[0m, in \u001b[0;36m<cell line: 1>\u001b[0;34m()\u001b[0m\n\u001b[0;32m----> 1\u001b[0m \u001b[43mtest\u001b[49m\u001b[43m(\u001b[49m\u001b[43mc\u001b[49m\u001b[43m \u001b[49m\u001b[38;5;241;43m=\u001b[39;49m\u001b[43m \u001b[49m\u001b[38;5;241;43m7\u001b[39;49m\u001b[43m,\u001b[49m\u001b[43m \u001b[49m\u001b[43md\u001b[49m\u001b[43m \u001b[49m\u001b[38;5;241;43m=\u001b[39;49m\u001b[43m \u001b[49m\u001b[38;5;241;43m89\u001b[39;49m\u001b[43m)\u001b[49m\n",
      "\u001b[0;31mTypeError\u001b[0m: test() got an unexpected keyword argument 'c'"
     ]
    }
   ],
   "source": [
    "test(c = 7, d = 89)"
   ]
  },
  {
   "cell_type": "code",
   "execution_count": 69,
   "id": "8e7dfdd2",
   "metadata": {},
   "outputs": [],
   "source": [
    "def test1(a,b,c,d,e):\n",
    "    return a,b,c,d,e"
   ]
  },
  {
   "cell_type": "code",
   "execution_count": 72,
   "id": "31e91c1f",
   "metadata": {},
   "outputs": [
    {
     "ename": "TypeError",
     "evalue": "test1() takes 5 positional arguments but 6 were given",
     "output_type": "error",
     "traceback": [
      "\u001b[0;31m---------------------------------------------------------------------------\u001b[0m",
      "\u001b[0;31mTypeError\u001b[0m                                 Traceback (most recent call last)",
      "Input \u001b[0;32mIn [72]\u001b[0m, in \u001b[0;36m<cell line: 1>\u001b[0;34m()\u001b[0m\n\u001b[0;32m----> 1\u001b[0m \u001b[43mtest1\u001b[49m\u001b[43m(\u001b[49m\u001b[38;5;241;43m1\u001b[39;49m\u001b[43m,\u001b[49m\u001b[38;5;241;43m2\u001b[39;49m\u001b[43m,\u001b[49m\u001b[38;5;241;43m3\u001b[39;49m\u001b[43m,\u001b[49m\u001b[38;5;241;43m4\u001b[39;49m\u001b[43m,\u001b[49m\u001b[38;5;241;43m5\u001b[39;49m\u001b[43m,\u001b[49m\u001b[38;5;241;43m6\u001b[39;49m\u001b[43m)\u001b[49m\n",
      "\u001b[0;31mTypeError\u001b[0m: test1() takes 5 positional arguments but 6 were given"
     ]
    }
   ],
   "source": [
    "test1(1,2,3,4,5,6)"
   ]
  },
  {
   "cell_type": "code",
   "execution_count": 73,
   "id": "198d1d3f",
   "metadata": {},
   "outputs": [],
   "source": [
    "def test1(*a):\n",
    "    return a"
   ]
  },
  {
   "cell_type": "code",
   "execution_count": 76,
   "id": "7f491012",
   "metadata": {},
   "outputs": [
    {
     "data": {
      "text/plain": [
       "(3, 4, 5, 6, 7, 12, 34, 56, 78)"
      ]
     },
     "execution_count": 76,
     "metadata": {},
     "output_type": "execute_result"
    }
   ],
   "source": [
    "test1(3,4,5,6,7,12,34,56,78)"
   ]
  },
  {
   "cell_type": "code",
   "execution_count": 79,
   "id": "a8cf8f11",
   "metadata": {},
   "outputs": [],
   "source": [
    "def test3(a,b,c,*d):\n",
    "    return a,b,c,d"
   ]
  },
  {
   "cell_type": "code",
   "execution_count": 82,
   "id": "591ccb2f",
   "metadata": {},
   "outputs": [
    {
     "data": {
      "text/plain": [
       "(9, 5, 6, ([89, 56, 78, 89],))"
      ]
     },
     "execution_count": 82,
     "metadata": {},
     "output_type": "execute_result"
    }
   ],
   "source": [
    "test3(9,5,6,[89,56,78,89])"
   ]
  },
  {
   "cell_type": "code",
   "execution_count": 83,
   "id": "0d1ca021",
   "metadata": {},
   "outputs": [],
   "source": [
    "\n",
    "# Q. write a function test4 which will change the content to list. \n",
    "# test4(3,4,5,6,[3,4,5,6,7])\n",
    "# o/p--->[3,4,5,6,[3,4,5,6,7]]"
   ]
  },
  {
   "cell_type": "code",
   "execution_count": 84,
   "id": "ff29cdad",
   "metadata": {},
   "outputs": [],
   "source": [
    "def test4(*a):\n",
    "    l = []\n",
    "    for i in a:\n",
    "        l.append(i)\n",
    "    return l"
   ]
  },
  {
   "cell_type": "code",
   "execution_count": 85,
   "id": "55f42b44",
   "metadata": {},
   "outputs": [
    {
     "data": {
      "text/plain": [
       "[3, 4, 5, 6, [3, 4, 5, 6, 7]]"
      ]
     },
     "execution_count": 85,
     "metadata": {},
     "output_type": "execute_result"
    }
   ],
   "source": [
    "test4(3,4,5,6,[3,4,5,6,7])"
   ]
  },
  {
   "cell_type": "code",
   "execution_count": 89,
   "id": "15e569f3",
   "metadata": {},
   "outputs": [],
   "source": [
    "def test5(*m,a,b,c,d,e):\n",
    "    return m,a,b,c,d,e"
   ]
  },
  {
   "cell_type": "code",
   "execution_count": 93,
   "id": "80e7d4bf",
   "metadata": {},
   "outputs": [
    {
     "data": {
      "text/plain": [
       "((5, 12), 6, 7, 8, 9, 10)"
      ]
     },
     "execution_count": 93,
     "metadata": {},
     "output_type": "execute_result"
    }
   ],
   "source": [
    "test5(5,12,a = 6,b= 7,c = 8,d = 9, e = 10)"
   ]
  },
  {
   "cell_type": "code",
   "execution_count": 95,
   "id": "70800fab",
   "metadata": {},
   "outputs": [],
   "source": [
    "def test6(**b):\n",
    "    return b"
   ]
  },
  {
   "cell_type": "code",
   "execution_count": 97,
   "id": "86665cf3",
   "metadata": {},
   "outputs": [
    {
     "data": {
      "text/plain": [
       "{'a': 4, 'b': 56, 'c': 'Madhu', 'd': [34, 45, 12, 34, 67, 89]}"
      ]
     },
     "execution_count": 97,
     "metadata": {},
     "output_type": "execute_result"
    }
   ],
   "source": [
    "test6(a = 4, b = 56, c = \"Madhu\", d = [34,45,12,34,67,89])"
   ]
  },
  {
   "cell_type": "code",
   "execution_count": 98,
   "id": "7ab3072e",
   "metadata": {},
   "outputs": [],
   "source": [
    "a  = {2,3,3,3,3,34,4,}"
   ]
  },
  {
   "cell_type": "code",
   "execution_count": 99,
   "id": "7bedb62b",
   "metadata": {},
   "outputs": [
    {
     "data": {
      "text/plain": [
       "{2, 3, 4, 34}"
      ]
     },
     "execution_count": 99,
     "metadata": {},
     "output_type": "execute_result"
    }
   ],
   "source": [
    "a"
   ]
  },
  {
   "cell_type": "code",
   "execution_count": null,
   "id": "06c94379",
   "metadata": {},
   "outputs": [],
   "source": []
  }
 ],
 "metadata": {
  "kernelspec": {
   "display_name": "Python 3 (ipykernel)",
   "language": "python",
   "name": "python3"
  },
  "language_info": {
   "codemirror_mode": {
    "name": "ipython",
    "version": 3
   },
   "file_extension": ".py",
   "mimetype": "text/x-python",
   "name": "python",
   "nbconvert_exporter": "python",
   "pygments_lexer": "ipython3",
   "version": "3.9.12"
  }
 },
 "nbformat": 4,
 "nbformat_minor": 5
}
