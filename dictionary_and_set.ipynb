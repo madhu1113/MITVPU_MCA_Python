{
 "cells": [
  {
   "cell_type": "code",
   "execution_count": 1,
   "id": "9f0f2b54",
   "metadata": {},
   "outputs": [],
   "source": [
    "d = {}"
   ]
  },
  {
   "cell_type": "code",
   "execution_count": 2,
   "id": "a7144b66",
   "metadata": {},
   "outputs": [
    {
     "data": {
      "text/plain": [
       "dict"
      ]
     },
     "execution_count": 2,
     "metadata": {},
     "output_type": "execute_result"
    }
   ],
   "source": [
    "type(d)"
   ]
  },
  {
   "cell_type": "code",
   "execution_count": 3,
   "id": "1bca6970",
   "metadata": {},
   "outputs": [],
   "source": [
    "d = {3,4,5,6,7, \"Tejas\"}"
   ]
  },
  {
   "cell_type": "code",
   "execution_count": 4,
   "id": "e4934035",
   "metadata": {},
   "outputs": [
    {
     "data": {
      "text/plain": [
       "set"
      ]
     },
     "execution_count": 4,
     "metadata": {},
     "output_type": "execute_result"
    }
   ],
   "source": [
    "type(d)"
   ]
  },
  {
   "cell_type": "markdown",
   "id": "fc1e121f",
   "metadata": {},
   "source": [
    "# Dictionary\n",
    "It should have 'key' and 'value' pair"
   ]
  },
  {
   "cell_type": "code",
   "execution_count": 5,
   "id": "0b820e6c",
   "metadata": {},
   "outputs": [],
   "source": [
    "d = {\"name\" : \"Vaibhav\", \"Class\": \"MCA\", \"Roll_no\": 8, \"Tech\": [\"Python\", \"Algorithms\", \"DS\", \"Stats\", \"ADBMS\"]}"
   ]
  },
  {
   "cell_type": "code",
   "execution_count": 6,
   "id": "80df405a",
   "metadata": {},
   "outputs": [],
   "source": [
    "l = [4,5,6,7,8]"
   ]
  },
  {
   "cell_type": "code",
   "execution_count": 7,
   "id": "5b88f673",
   "metadata": {},
   "outputs": [
    {
     "data": {
      "text/plain": [
       "True"
      ]
     },
     "execution_count": 7,
     "metadata": {},
     "output_type": "execute_result"
    }
   ],
   "source": [
    "6 in l"
   ]
  },
  {
   "cell_type": "code",
   "execution_count": 8,
   "id": "e5cb707b",
   "metadata": {},
   "outputs": [
    {
     "data": {
      "text/plain": [
       "True"
      ]
     },
     "execution_count": 8,
     "metadata": {},
     "output_type": "execute_result"
    }
   ],
   "source": [
    "# Q. Whether Vaibhav knows DS or not? Check it.\n",
    "\"DS\" in d[\"Tech\"]"
   ]
  },
  {
   "cell_type": "markdown",
   "id": "da111e84",
   "metadata": {},
   "source": [
    "# Q. Does he knows Python?\n",
    "\"Python\" in d[\"Tech\"]"
   ]
  },
  {
   "cell_type": "code",
   "execution_count": 10,
   "id": "2178b857",
   "metadata": {},
   "outputs": [],
   "source": [
    "# Q. Change the 'name' of dictionary\n",
    "d[\"name\"]=\"tejas\""
   ]
  },
  {
   "cell_type": "code",
   "execution_count": 11,
   "id": "79f7f699",
   "metadata": {},
   "outputs": [
    {
     "data": {
      "text/plain": [
       "{'name': 'tejas',\n",
       " 'Class': 'MCA',\n",
       " 'Roll_no': 8,\n",
       " 'Tech': ['Python', 'Algorithms', 'DS', 'Stats', 'ADBMS']}"
      ]
     },
     "execution_count": 11,
     "metadata": {},
     "output_type": "execute_result"
    }
   ],
   "source": [
    "d"
   ]
  },
  {
   "cell_type": "code",
   "execution_count": 12,
   "id": "aa5e8c28",
   "metadata": {},
   "outputs": [],
   "source": [
    "# Q. Insert University name of \"tejas\"\n",
    "d[\"University_name\"] = \"MITVPU\""
   ]
  },
  {
   "cell_type": "code",
   "execution_count": 13,
   "id": "22db65a9",
   "metadata": {},
   "outputs": [
    {
     "data": {
      "text/plain": [
       "{'name': 'tejas',\n",
       " 'Class': 'MCA',\n",
       " 'Roll_no': 8,\n",
       " 'Tech': ['Python', 'Algorithms', 'DS', 'Stats', 'ADBMS'],\n",
       " 'University_name': 'MITVPU'}"
      ]
     },
     "execution_count": 13,
     "metadata": {},
     "output_type": "execute_result"
    }
   ],
   "source": [
    "d"
   ]
  },
  {
   "cell_type": "code",
   "execution_count": 14,
   "id": "ce2dcb11",
   "metadata": {},
   "outputs": [],
   "source": [
    "# Q. Insert Tejas Mobile no. dictionary inside dictionary\n"
   ]
  },
  {
   "cell_type": "code",
   "execution_count": 15,
   "id": "197f6680",
   "metadata": {},
   "outputs": [
    {
     "data": {
      "text/plain": [
       "{'name': 'tejas',\n",
       " 'Class': 'MCA',\n",
       " 'Roll_no': 8,\n",
       " 'Tech': ['Python', 'Algorithms', 'DS', 'Stats', 'ADBMS'],\n",
       " 'University_name': 'MITVPU'}"
      ]
     },
     "execution_count": 15,
     "metadata": {},
     "output_type": "execute_result"
    }
   ],
   "source": [
    "d"
   ]
  },
  {
   "cell_type": "code",
   "execution_count": 16,
   "id": "29e22d4c",
   "metadata": {},
   "outputs": [],
   "source": [
    "d1={\"phone 1\":9527270581,\"phone 2\":9988776655}\n",
    "d[\"contact\"]=d1"
   ]
  },
  {
   "cell_type": "code",
   "execution_count": 17,
   "id": "6bea05ca",
   "metadata": {},
   "outputs": [
    {
     "data": {
      "text/plain": [
       "{'name': 'tejas',\n",
       " 'Class': 'MCA',\n",
       " 'Roll_no': 8,\n",
       " 'Tech': ['Python', 'Algorithms', 'DS', 'Stats', 'ADBMS'],\n",
       " 'University_name': 'MITVPU',\n",
       " 'contact': {'phone 1': 9527270581, 'phone 2': 9988776655}}"
      ]
     },
     "execution_count": 17,
     "metadata": {},
     "output_type": "execute_result"
    }
   ],
   "source": [
    "d"
   ]
  },
  {
   "cell_type": "code",
   "execution_count": 18,
   "id": "246b483d",
   "metadata": {},
   "outputs": [
    {
     "data": {
      "text/plain": [
       "9988776655"
      ]
     },
     "execution_count": 18,
     "metadata": {},
     "output_type": "execute_result"
    }
   ],
   "source": [
    "# What is Tejas's 2nd phone no.?\n",
    "d[\"contact\"][\"phone 2\"]"
   ]
  },
  {
   "cell_type": "code",
   "execution_count": 19,
   "id": "f73ba7ae",
   "metadata": {},
   "outputs": [
    {
     "data": {
      "text/plain": [
       "9527270581"
      ]
     },
     "execution_count": 19,
     "metadata": {},
     "output_type": "execute_result"
    }
   ],
   "source": [
    "d[\"contact\"][\"phone 1\"]"
   ]
  },
  {
   "cell_type": "code",
   "execution_count": 35,
   "id": "caa985fa",
   "metadata": {},
   "outputs": [],
   "source": [
    "# Key is a tuple\n",
    "d2 = {(\"jhsdbvk\", 4364, \"Madhu\") : \"skdjghiea\"}"
   ]
  },
  {
   "cell_type": "code",
   "execution_count": 36,
   "id": "4422fcce",
   "metadata": {},
   "outputs": [
    {
     "data": {
      "text/plain": [
       "{('jhsdbvk', 4364, 'Madhu'): 'skdjghiea'}"
      ]
     },
     "execution_count": 36,
     "metadata": {},
     "output_type": "execute_result"
    }
   ],
   "source": [
    "d2"
   ]
  },
  {
   "cell_type": "code",
   "execution_count": 38,
   "id": "20a43ee1",
   "metadata": {},
   "outputs": [
    {
     "ename": "TypeError",
     "evalue": "unhashable type: 'list'",
     "output_type": "error",
     "traceback": [
      "\u001b[0;31m---------------------------------------------------------------------------\u001b[0m",
      "\u001b[0;31mTypeError\u001b[0m                                 Traceback (most recent call last)",
      "Input \u001b[0;32mIn [38]\u001b[0m, in \u001b[0;36m<cell line: 2>\u001b[0;34m()\u001b[0m\n\u001b[1;32m      1\u001b[0m \u001b[38;5;66;03m# Key is a list\u001b[39;00m\n\u001b[0;32m----> 2\u001b[0m d2 \u001b[38;5;241m=\u001b[39m {[\u001b[38;5;124m\"\u001b[39m\u001b[38;5;124mjhsdbvk\u001b[39m\u001b[38;5;124m\"\u001b[39m, \u001b[38;5;241m4364\u001b[39m, \u001b[38;5;124m\"\u001b[39m\u001b[38;5;124mMadhu\u001b[39m\u001b[38;5;124m\"\u001b[39m] : \u001b[38;5;124m\"\u001b[39m\u001b[38;5;124mskdjghiea\u001b[39m\u001b[38;5;124m\"\u001b[39m}\n",
      "\u001b[0;31mTypeError\u001b[0m: unhashable type: 'list'"
     ]
    }
   ],
   "source": [
    "# Key is a list\n",
    "d2 = {[\"jhsdbvk\", 4364, \"Madhu\"] : \"skdjghiea\"}"
   ]
  },
  {
   "cell_type": "code",
   "execution_count": 39,
   "id": "030f7519",
   "metadata": {},
   "outputs": [
    {
     "ename": "TypeError",
     "evalue": "unhashable type: 'set'",
     "output_type": "error",
     "traceback": [
      "\u001b[0;31m---------------------------------------------------------------------------\u001b[0m",
      "\u001b[0;31mTypeError\u001b[0m                                 Traceback (most recent call last)",
      "Input \u001b[0;32mIn [39]\u001b[0m, in \u001b[0;36m<cell line: 2>\u001b[0;34m()\u001b[0m\n\u001b[1;32m      1\u001b[0m \u001b[38;5;66;03m# Key is set\u001b[39;00m\n\u001b[0;32m----> 2\u001b[0m d2 \u001b[38;5;241m=\u001b[39m {{\u001b[38;5;241m3\u001b[39m,\u001b[38;5;241m4\u001b[39m,\u001b[38;5;241m5\u001b[39m}: \u001b[38;5;124m\"\u001b[39m\u001b[38;5;124mmjdsgfjke\u001b[39m\u001b[38;5;124m\"\u001b[39m}\n",
      "\u001b[0;31mTypeError\u001b[0m: unhashable type: 'set'"
     ]
    }
   ],
   "source": [
    "# Key is set\n",
    "d2 = {{3,4,5}: \"mjdsgfjke\"}"
   ]
  },
  {
   "cell_type": "code",
   "execution_count": 41,
   "id": "12ab9084",
   "metadata": {},
   "outputs": [
    {
     "ename": "TypeError",
     "evalue": "unhashable type: 'dict'",
     "output_type": "error",
     "traceback": [
      "\u001b[0;31m---------------------------------------------------------------------------\u001b[0m",
      "\u001b[0;31mTypeError\u001b[0m                                 Traceback (most recent call last)",
      "Input \u001b[0;32mIn [41]\u001b[0m, in \u001b[0;36m<cell line: 2>\u001b[0;34m()\u001b[0m\n\u001b[1;32m      1\u001b[0m \u001b[38;5;66;03m# Key is Dictionary\u001b[39;00m\n\u001b[0;32m----> 2\u001b[0m d2 \u001b[38;5;241m=\u001b[39m {{\u001b[38;5;124m\"\u001b[39m\u001b[38;5;124mname\u001b[39m\u001b[38;5;124m\"\u001b[39m: \u001b[38;5;124m\"\u001b[39m\u001b[38;5;124mMadhu\u001b[39m\u001b[38;5;124m\"\u001b[39m} : \u001b[38;5;124m\"\u001b[39m\u001b[38;5;124mksdjbfhk\u001b[39m\u001b[38;5;124m\"\u001b[39m}\n",
      "\u001b[0;31mTypeError\u001b[0m: unhashable type: 'dict'"
     ]
    }
   ],
   "source": [
    "# Key is Dictionary\n",
    "d2 = {{\"name\": \"Madhu\"} : \"ksdjbfhk\"}"
   ]
  },
  {
   "cell_type": "code",
   "execution_count": 42,
   "id": "2b4aca21",
   "metadata": {},
   "outputs": [],
   "source": [
    "# Conclusion:---> Key can't be a set, dict and list but it can be a tuple.\n"
   ]
  },
  {
   "cell_type": "code",
   "execution_count": 44,
   "id": "0eaca2e0",
   "metadata": {},
   "outputs": [
    {
     "data": {
      "text/plain": [
       "{'name': 'tejas',\n",
       " 'Class': 'MCA',\n",
       " 'Roll_no': 8,\n",
       " 'Tech': ['Python', 'Algorithms', 'DS', 'Stats', 'ADBMS'],\n",
       " 'University_name': 'MITVPU',\n",
       " 'contact': {'phone 1': 9527270581, 'phone 2': 9988776655}}"
      ]
     },
     "execution_count": 44,
     "metadata": {},
     "output_type": "execute_result"
    }
   ],
   "source": [
    "d"
   ]
  },
  {
   "cell_type": "code",
   "execution_count": 45,
   "id": "54e989df",
   "metadata": {},
   "outputs": [],
   "source": [
    "# Can we have two same keys in a dictionary?\n",
    "# No\n",
    "d3 = {\"name\" : \"Vaibhav\", \"name\": \"Tejas\", \"name\": \"Madhu\"}"
   ]
  },
  {
   "cell_type": "code",
   "execution_count": 46,
   "id": "b10703eb",
   "metadata": {},
   "outputs": [
    {
     "data": {
      "text/plain": [
       "{'name': 'Madhu'}"
      ]
     },
     "execution_count": 46,
     "metadata": {},
     "output_type": "execute_result"
    }
   ],
   "source": [
    "d3"
   ]
  },
  {
   "cell_type": "code",
   "execution_count": 47,
   "id": "750bca9d",
   "metadata": {},
   "outputs": [],
   "source": [
    "d3 = {\"name\" : [\"Vaibhav\",\"Tejas\", \"Madhu\"]}"
   ]
  },
  {
   "cell_type": "code",
   "execution_count": 48,
   "id": "76380641",
   "metadata": {},
   "outputs": [
    {
     "data": {
      "text/plain": [
       "{'name': ['Vaibhav', 'Tejas', 'Madhu']}"
      ]
     },
     "execution_count": 48,
     "metadata": {},
     "output_type": "execute_result"
    }
   ],
   "source": [
    "d3"
   ]
  },
  {
   "cell_type": "code",
   "execution_count": 49,
   "id": "5e5464b4",
   "metadata": {},
   "outputs": [],
   "source": [
    "d[\"name\"]=\"Tejas\"+\" name\" ,\" vaibhav\""
   ]
  },
  {
   "cell_type": "code",
   "execution_count": 50,
   "id": "f89ac0eb",
   "metadata": {},
   "outputs": [
    {
     "data": {
      "text/plain": [
       "{'name': ('Tejas name', ' vaibhav'),\n",
       " 'Class': 'MCA',\n",
       " 'Roll_no': 8,\n",
       " 'Tech': ['Python', 'Algorithms', 'DS', 'Stats', 'ADBMS'],\n",
       " 'University_name': 'MITVPU',\n",
       " 'contact': {'phone 1': 9527270581, 'phone 2': 9988776655}}"
      ]
     },
     "execution_count": 50,
     "metadata": {},
     "output_type": "execute_result"
    }
   ],
   "source": [
    "d"
   ]
  },
  {
   "cell_type": "code",
   "execution_count": 51,
   "id": "2a3d7f14",
   "metadata": {},
   "outputs": [
    {
     "data": {
      "text/plain": [
       "dict_keys(['name', 'Class', 'Roll_no', 'Tech', 'University_name', 'contact'])"
      ]
     },
     "execution_count": 51,
     "metadata": {},
     "output_type": "execute_result"
    }
   ],
   "source": [
    "# I want only keys of a particular dictionary.\n",
    "d.keys()"
   ]
  },
  {
   "cell_type": "code",
   "execution_count": 52,
   "id": "b5287c5d",
   "metadata": {},
   "outputs": [
    {
     "data": {
      "text/plain": [
       "dict_values([('Tejas name', ' vaibhav'), 'MCA', 8, ['Python', 'Algorithms', 'DS', 'Stats', 'ADBMS'], 'MITVPU', {'phone 1': 9527270581, 'phone 2': 9988776655}])"
      ]
     },
     "execution_count": 52,
     "metadata": {},
     "output_type": "execute_result"
    }
   ],
   "source": [
    "# Only Values\n",
    "d.values()"
   ]
  },
  {
   "cell_type": "code",
   "execution_count": 53,
   "id": "c1891ba9",
   "metadata": {},
   "outputs": [
    {
     "data": {
      "text/plain": [
       "{'name': ('Tejas name', ' vaibhav'),\n",
       " 'Class': 'MCA',\n",
       " 'Roll_no': 8,\n",
       " 'Tech': ['Python', 'Algorithms', 'DS', 'Stats', 'ADBMS'],\n",
       " 'University_name': 'MITVPU',\n",
       " 'contact': {'phone 1': 9527270581, 'phone 2': 9988776655}}"
      ]
     },
     "execution_count": 53,
     "metadata": {},
     "output_type": "execute_result"
    }
   ],
   "source": [
    "d"
   ]
  },
  {
   "cell_type": "code",
   "execution_count": 54,
   "id": "8de76146",
   "metadata": {},
   "outputs": [
    {
     "data": {
      "text/plain": [
       "dict_items([('name', ('Tejas name', ' vaibhav')), ('Class', 'MCA'), ('Roll_no', 8), ('Tech', ['Python', 'Algorithms', 'DS', 'Stats', 'ADBMS']), ('University_name', 'MITVPU'), ('contact', {'phone 1': 9527270581, 'phone 2': 9988776655})])"
      ]
     },
     "execution_count": 54,
     "metadata": {},
     "output_type": "execute_result"
    }
   ],
   "source": [
    "d.items()"
   ]
  },
  {
   "cell_type": "markdown",
   "id": "dfa8c91b",
   "metadata": {},
   "source": [
    "# Set\n",
    "Duplicate values are not allowed.\n",
    "Can't define empty set\n",
    "It gives sorted value.\n",
    "Can't locate the index of a particular value.\n",
    "Sorting.\n",
    "remove duplicates."
   ]
  },
  {
   "cell_type": "code",
   "execution_count": 55,
   "id": "4be578bd",
   "metadata": {},
   "outputs": [],
   "source": [
    "s = {}"
   ]
  },
  {
   "cell_type": "code",
   "execution_count": 56,
   "id": "5dbdeead",
   "metadata": {},
   "outputs": [
    {
     "data": {
      "text/plain": [
       "dict"
      ]
     },
     "execution_count": 56,
     "metadata": {},
     "output_type": "execute_result"
    }
   ],
   "source": [
    "type(s)"
   ]
  },
  {
   "cell_type": "code",
   "execution_count": 57,
   "id": "73665485",
   "metadata": {},
   "outputs": [],
   "source": [
    "s = {2,3,4,5,6}"
   ]
  },
  {
   "cell_type": "code",
   "execution_count": 58,
   "id": "a9c41094",
   "metadata": {},
   "outputs": [
    {
     "data": {
      "text/plain": [
       "set"
      ]
     },
     "execution_count": 58,
     "metadata": {},
     "output_type": "execute_result"
    }
   ],
   "source": [
    "type(s)"
   ]
  },
  {
   "cell_type": "code",
   "execution_count": 59,
   "id": "0a33de07",
   "metadata": {},
   "outputs": [],
   "source": [
    "s1= {2,3,4,5,6,2,3,4,5,5,5,5,5}"
   ]
  },
  {
   "cell_type": "code",
   "execution_count": 60,
   "id": "effd7df5",
   "metadata": {},
   "outputs": [
    {
     "data": {
      "text/plain": [
       "{2, 3, 4, 5, 6}"
      ]
     },
     "execution_count": 60,
     "metadata": {},
     "output_type": "execute_result"
    }
   ],
   "source": [
    "s1"
   ]
  },
  {
   "cell_type": "code",
   "execution_count": 61,
   "id": "444d07ab",
   "metadata": {},
   "outputs": [],
   "source": [
    "s2 = {56,23,90,12,97,34}"
   ]
  },
  {
   "cell_type": "code",
   "execution_count": 62,
   "id": "de7d9a4d",
   "metadata": {},
   "outputs": [
    {
     "data": {
      "text/plain": [
       "{12, 23, 34, 56, 90, 97}"
      ]
     },
     "execution_count": 62,
     "metadata": {},
     "output_type": "execute_result"
    }
   ],
   "source": [
    "s2"
   ]
  },
  {
   "cell_type": "code",
   "execution_count": 63,
   "id": "df894446",
   "metadata": {},
   "outputs": [
    {
     "ename": "TypeError",
     "evalue": "'set' object is not subscriptable",
     "output_type": "error",
     "traceback": [
      "\u001b[0;31m---------------------------------------------------------------------------\u001b[0m",
      "\u001b[0;31mTypeError\u001b[0m                                 Traceback (most recent call last)",
      "Input \u001b[0;32mIn [63]\u001b[0m, in \u001b[0;36m<cell line: 2>\u001b[0;34m()\u001b[0m\n\u001b[1;32m      1\u001b[0m \u001b[38;5;66;03m# What is the value of s3 at index 4??\u001b[39;00m\n\u001b[0;32m----> 2\u001b[0m \u001b[43ms2\u001b[49m\u001b[43m[\u001b[49m\u001b[38;5;241;43m4\u001b[39;49m\u001b[43m]\u001b[49m\n",
      "\u001b[0;31mTypeError\u001b[0m: 'set' object is not subscriptable"
     ]
    }
   ],
   "source": [
    "# What is the value of s3 at index 4??\n",
    "s2[4]"
   ]
  },
  {
   "cell_type": "code",
   "execution_count": 65,
   "id": "98e25699",
   "metadata": {},
   "outputs": [],
   "source": [
    "# Is set heterogenous?\n",
    "# Yes\n",
    "s3 = {\"Madhu\", \"Tejas\", \"Vaibhav\", 2,4,5,6, True, False, 5.4, 3.5}"
   ]
  },
  {
   "cell_type": "code",
   "execution_count": 66,
   "id": "4be2245f",
   "metadata": {},
   "outputs": [
    {
     "data": {
      "text/plain": [
       "{2, 3.5, 4, 5, 5.4, 6, False, 'Madhu', 'Tejas', True, 'Vaibhav'}"
      ]
     },
     "execution_count": 66,
     "metadata": {},
     "output_type": "execute_result"
    }
   ],
   "source": [
    "s3"
   ]
  },
  {
   "cell_type": "code",
   "execution_count": 70,
   "id": "4eec3c4e",
   "metadata": {},
   "outputs": [],
   "source": [
    "# Add Namdev in s3 set.\n",
    "s3.add(\"namdev\")"
   ]
  },
  {
   "cell_type": "code",
   "execution_count": 73,
   "id": "bc3c7f55",
   "metadata": {},
   "outputs": [
    {
     "data": {
      "text/plain": [
       "{2, 3.5, 4, 5, 5.4, 6, False, 'Madhu', 'Tejas', True, 'Vaibhav'}"
      ]
     },
     "execution_count": 73,
     "metadata": {},
     "output_type": "execute_result"
    }
   ],
   "source": [
    "s3.discard(\"namdev\")\n",
    "s3"
   ]
  },
  {
   "cell_type": "code",
   "execution_count": 67,
   "id": "25985d9d",
   "metadata": {},
   "outputs": [],
   "source": [
    "# Can I access a particular content in set?\n",
    "# Ans:---> No bcz of sorting of content."
   ]
  },
  {
   "cell_type": "code",
   "execution_count": 69,
   "id": "2d9e0339",
   "metadata": {},
   "outputs": [
    {
     "data": {
      "text/plain": [
       "set"
      ]
     },
     "execution_count": 69,
     "metadata": {},
     "output_type": "execute_result"
    }
   ],
   "source": [
    "# Q. Convert set s3 into list\n",
    "type(s3)"
   ]
  },
  {
   "cell_type": "code",
   "execution_count": 76,
   "id": "31e1d1c3",
   "metadata": {},
   "outputs": [],
   "source": [
    "s4 = list(s3)"
   ]
  },
  {
   "cell_type": "code",
   "execution_count": 78,
   "id": "62f72146",
   "metadata": {},
   "outputs": [
    {
     "data": {
      "text/plain": [
       "[False, True, 2, 3.5, 4, 'Madhu', 5, 6, 5.4, 'Vaibhav', 'Tejas']"
      ]
     },
     "execution_count": 78,
     "metadata": {},
     "output_type": "execute_result"
    }
   ],
   "source": [
    "s4"
   ]
  },
  {
   "cell_type": "code",
   "execution_count": 79,
   "id": "c5aa42a3",
   "metadata": {},
   "outputs": [
    {
     "data": {
      "text/plain": [
       "{2, 3.5, 4, 5, 5.4, 6, False, 'Madhu', 'Tejas', True, 'Vaibhav'}"
      ]
     },
     "execution_count": 79,
     "metadata": {},
     "output_type": "execute_result"
    }
   ],
   "source": [
    "s3"
   ]
  },
  {
   "cell_type": "raw",
   "id": "fff77699",
   "metadata": {},
   "source": [
    "# Data Structure\n",
    "list = []\n",
    "tuple = ()\n",
    "dictionary = {\"key\":\"value\"}\n",
    "set = {1,2,3,4}"
   ]
  },
  {
   "cell_type": "code",
   "execution_count": 80,
   "id": "709a8497",
   "metadata": {},
   "outputs": [],
   "source": [
    "s3.add((2,3,4,5,6))"
   ]
  },
  {
   "cell_type": "code",
   "execution_count": 81,
   "id": "6b191603",
   "metadata": {},
   "outputs": [
    {
     "data": {
      "text/plain": [
       "{(2, 3, 4, 5, 6),\n",
       " 2,\n",
       " 3.5,\n",
       " 4,\n",
       " 5,\n",
       " 5.4,\n",
       " 6,\n",
       " False,\n",
       " 'Madhu',\n",
       " 'Tejas',\n",
       " True,\n",
       " 'Vaibhav'}"
      ]
     },
     "execution_count": 81,
     "metadata": {},
     "output_type": "execute_result"
    }
   ],
   "source": [
    "s3"
   ]
  },
  {
   "cell_type": "code",
   "execution_count": 82,
   "id": "0e498e41",
   "metadata": {},
   "outputs": [
    {
     "ename": "TypeError",
     "evalue": "unhashable type: 'list'",
     "output_type": "error",
     "traceback": [
      "\u001b[0;31m---------------------------------------------------------------------------\u001b[0m",
      "\u001b[0;31mTypeError\u001b[0m                                 Traceback (most recent call last)",
      "Input \u001b[0;32mIn [82]\u001b[0m, in \u001b[0;36m<cell line: 1>\u001b[0;34m()\u001b[0m\n\u001b[0;32m----> 1\u001b[0m \u001b[43ms3\u001b[49m\u001b[38;5;241;43m.\u001b[39;49m\u001b[43madd\u001b[49m\u001b[43m(\u001b[49m\u001b[43m[\u001b[49m\u001b[38;5;241;43m2\u001b[39;49m\u001b[43m,\u001b[49m\u001b[38;5;241;43m3\u001b[39;49m\u001b[43m,\u001b[49m\u001b[38;5;241;43m4\u001b[39;49m\u001b[43m,\u001b[49m\u001b[38;5;241;43m5\u001b[39;49m\u001b[43m,\u001b[49m\u001b[38;5;241;43m6\u001b[39;49m\u001b[43m]\u001b[49m\u001b[43m)\u001b[49m\n",
      "\u001b[0;31mTypeError\u001b[0m: unhashable type: 'list'"
     ]
    }
   ],
   "source": [
    "s3.add([2,3,4,5,6])"
   ]
  },
  {
   "cell_type": "code",
   "execution_count": 93,
   "id": "e0261813",
   "metadata": {},
   "outputs": [
    {
     "data": {
      "text/plain": [
       "{(2, 3, 4, 5, 6), 4, 5, 5.4, 6, 'Madhu', 'Tejas', 'Vaibhav'}"
      ]
     },
     "execution_count": 93,
     "metadata": {},
     "output_type": "execute_result"
    }
   ],
   "source": [
    "s3"
   ]
  },
  {
   "cell_type": "code",
   "execution_count": 94,
   "id": "a6e4835f",
   "metadata": {},
   "outputs": [
    {
     "data": {
      "text/plain": [
       "4"
      ]
     },
     "execution_count": 94,
     "metadata": {},
     "output_type": "execute_result"
    }
   ],
   "source": [
    "s3.pop()"
   ]
  },
  {
   "cell_type": "code",
   "execution_count": 95,
   "id": "6fd010b5",
   "metadata": {},
   "outputs": [
    {
     "data": {
      "text/plain": [
       "{(2, 3, 4, 5, 6), 5, 5.4, 6, 'Madhu', 'Tejas', 'Vaibhav'}"
      ]
     },
     "execution_count": 95,
     "metadata": {},
     "output_type": "execute_result"
    }
   ],
   "source": [
    "s3"
   ]
  },
  {
   "cell_type": "raw",
   "id": "9bb7705f",
   "metadata": {},
   "source": [
    "# Till now we have studied\n",
    "String\n",
    "List\n",
    "Tuple\n",
    "Dictionary\n",
    "Set"
   ]
  },
  {
   "cell_type": "markdown",
   "id": "89da497a",
   "metadata": {},
   "source": [
    "# Homework-3"
   ]
  },
  {
   "cell_type": "raw",
   "id": "9e7c1cca",
   "metadata": {},
   "source": [
    "l = [3,4,5,6,7 , [23,456,67,8,78,78] , [345,56,87,8,98,9] , (234,6657,6) , {\"key1\" :\"sudh\" , 234:[23,45,656]}]\n",
    "1 . Try to reverse a list \n",
    "2. try to access 234 out of this list \n",
    "3 . try to access 456 \n",
    "4 . Try to extract only a list collection form list l \n",
    "5 . Try to extract \"sudh\"\n",
    "6 . Try to list all the key in dict element avaible in list \n",
    "7 . Try to extract all the value element form dict available in list "
   ]
  },
  {
   "cell_type": "code",
   "execution_count": null,
   "id": "99730807",
   "metadata": {},
   "outputs": [],
   "source": []
  }
 ],
 "metadata": {
  "kernelspec": {
   "display_name": "Python 3 (ipykernel)",
   "language": "python",
   "name": "python3"
  },
  "language_info": {
   "codemirror_mode": {
    "name": "ipython",
    "version": 3
   },
   "file_extension": ".py",
   "mimetype": "text/x-python",
   "name": "python",
   "nbconvert_exporter": "python",
   "pygments_lexer": "ipython3",
   "version": "3.9.12"
  }
 },
 "nbformat": 4,
 "nbformat_minor": 5
}
