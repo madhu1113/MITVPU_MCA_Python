{
 "cells": [
  {
   "cell_type": "markdown",
   "id": "499e6928",
   "metadata": {},
   "source": [
    "# How to pass a dictionary to a function?"
   ]
  },
  {
   "cell_type": "markdown",
   "id": "c030d41d",
   "metadata": {},
   "source": [
    "0/p--->{Name: \"Madhu\", \"id\" : 1234 }"
   ]
  },
  {
   "cell_type": "code",
   "execution_count": 1,
   "id": "342ac8fa",
   "metadata": {},
   "outputs": [
    {
     "data": {
      "text/plain": [
       "{'a': 10, 'c': 'Vaibhav'}"
      ]
     },
     "execution_count": 1,
     "metadata": {},
     "output_type": "execute_result"
    }
   ],
   "source": [
    "def test(**a):\n",
    "    return a\n",
    "\n",
    "test(a = 10, c = \"Vaibhav\")"
   ]
  },
  {
   "cell_type": "markdown",
   "id": "2583ca1d",
   "metadata": {},
   "source": [
    "# Lambda Function :--> \n",
    "Anonympous function"
   ]
  },
  {
   "cell_type": "code",
   "execution_count": 2,
   "id": "e8eff20d",
   "metadata": {},
   "outputs": [],
   "source": [
    "a = lambda *madhu : madhu"
   ]
  },
  {
   "cell_type": "code",
   "execution_count": 3,
   "id": "2246e245",
   "metadata": {},
   "outputs": [
    {
     "data": {
      "text/plain": [
       "(12, 45, 67, 89, 12, 45)"
      ]
     },
     "execution_count": 3,
     "metadata": {},
     "output_type": "execute_result"
    }
   ],
   "source": [
    "a(12,45,67,89,12,45)"
   ]
  },
  {
   "cell_type": "code",
   "execution_count": 4,
   "id": "b028855e",
   "metadata": {},
   "outputs": [
    {
     "data": {
      "text/plain": [
       "function"
      ]
     },
     "execution_count": 4,
     "metadata": {},
     "output_type": "execute_result"
    }
   ],
   "source": [
    "type(a)"
   ]
  },
  {
   "cell_type": "code",
   "execution_count": 5,
   "id": "185418ae",
   "metadata": {},
   "outputs": [],
   "source": [
    "a = 5"
   ]
  },
  {
   "cell_type": "code",
   "execution_count": 6,
   "id": "276aaa7f",
   "metadata": {},
   "outputs": [
    {
     "data": {
      "text/plain": [
       "int"
      ]
     },
     "execution_count": 6,
     "metadata": {},
     "output_type": "execute_result"
    }
   ],
   "source": [
    "type(a)"
   ]
  },
  {
   "cell_type": "code",
   "execution_count": 7,
   "id": "729abe76",
   "metadata": {},
   "outputs": [],
   "source": [
    "def a(*p):\n",
    "    return p"
   ]
  },
  {
   "cell_type": "code",
   "execution_count": 8,
   "id": "62b20fb1",
   "metadata": {},
   "outputs": [
    {
     "data": {
      "text/plain": [
       "(12, 45, 67, 89, 12, 45)"
      ]
     },
     "execution_count": 8,
     "metadata": {},
     "output_type": "execute_result"
    }
   ],
   "source": [
    "a(12,45,67,89,12,45)"
   ]
  },
  {
   "cell_type": "code",
   "execution_count": 9,
   "id": "bd7ff3e3",
   "metadata": {},
   "outputs": [],
   "source": [
    "# Add 2 nos using lambda function"
   ]
  },
  {
   "cell_type": "code",
   "execution_count": 10,
   "id": "c69fbf82",
   "metadata": {},
   "outputs": [
    {
     "data": {
      "text/plain": [
       "7"
      ]
     },
     "execution_count": 10,
     "metadata": {},
     "output_type": "execute_result"
    }
   ],
   "source": [
    "a = lambda p,q : p+q\n",
    "a(3,4)"
   ]
  },
  {
   "cell_type": "markdown",
   "id": "5fd5cf54",
   "metadata": {},
   "source": [
    "# Comprehension Operation"
   ]
  },
  {
   "cell_type": "code",
   "execution_count": 12,
   "id": "ddd174d9",
   "metadata": {},
   "outputs": [],
   "source": [
    "# Q. t = (2,3,4,5,6,7)\n",
    "# o/p ---> [2,3,4,5,6]"
   ]
  },
  {
   "cell_type": "code",
   "execution_count": 13,
   "id": "b63b7698",
   "metadata": {},
   "outputs": [
    {
     "data": {
      "text/plain": [
       "list[2, 3, 4, 5, 6]"
      ]
     },
     "execution_count": 13,
     "metadata": {},
     "output_type": "execute_result"
    }
   ],
   "source": [
    "t=(2,3,4,5,6)\n",
    "list[t]"
   ]
  },
  {
   "cell_type": "code",
   "execution_count": 16,
   "id": "770b4a6b",
   "metadata": {},
   "outputs": [],
   "source": [
    "t = (2,3,4,5,6,7)\n",
    "l = []\n",
    "for i in t:\n",
    "    l.append(i)"
   ]
  },
  {
   "cell_type": "code",
   "execution_count": 17,
   "id": "aa888084",
   "metadata": {},
   "outputs": [
    {
     "data": {
      "text/plain": [
       "[2, 3, 4, 5, 6, 7]"
      ]
     },
     "execution_count": 17,
     "metadata": {},
     "output_type": "execute_result"
    }
   ],
   "source": [
    "l"
   ]
  },
  {
   "cell_type": "code",
   "execution_count": 18,
   "id": "bce462c2",
   "metadata": {},
   "outputs": [
    {
     "data": {
      "text/plain": [
       "[2, 3, 4, 5, 6, 7]"
      ]
     },
     "execution_count": 18,
     "metadata": {},
     "output_type": "execute_result"
    }
   ],
   "source": [
    "# Comprehension operation\n",
    "[i for i in t]"
   ]
  },
  {
   "cell_type": "code",
   "execution_count": 19,
   "id": "6a4229f5",
   "metadata": {},
   "outputs": [],
   "source": [
    "# s = \"madhu\"\n",
    "# [\"m\", \"a\", \"d\", \"h\", \"u\"]"
   ]
  },
  {
   "cell_type": "code",
   "execution_count": 20,
   "id": "a4d01bb3",
   "metadata": {},
   "outputs": [
    {
     "name": "stdout",
     "output_type": "stream",
     "text": [
      "['v', 'a', 'i', 'b', 'h', 'a', 'v']\n"
     ]
    }
   ],
   "source": [
    "l=[]\n",
    "s=\"vaibhav\"\n",
    "for i in s:\n",
    "    l.append(i)\n",
    "    \n",
    "print(l)"
   ]
  },
  {
   "cell_type": "code",
   "execution_count": 21,
   "id": "89991a3c",
   "metadata": {},
   "outputs": [
    {
     "data": {
      "text/plain": [
       "['v', 'a', 'i', 'b', 'h', 'a', 'v']"
      ]
     },
     "execution_count": 21,
     "metadata": {},
     "output_type": "execute_result"
    }
   ],
   "source": [
    "[i for i in s]"
   ]
  },
  {
   "cell_type": "code",
   "execution_count": 23,
   "id": "da48013c",
   "metadata": {},
   "outputs": [
    {
     "data": {
      "text/plain": [
       "[4, 9, 16, 25, 36, 49, 64, 81]"
      ]
     },
     "execution_count": 23,
     "metadata": {},
     "output_type": "execute_result"
    }
   ],
   "source": [
    "# Q. Find the square of 2 to 20.\n",
    "[i*i for i in range(2,10)]"
   ]
  },
  {
   "cell_type": "code",
   "execution_count": 24,
   "id": "ecb8262f",
   "metadata": {},
   "outputs": [],
   "source": [
    "# Q. we will pass a tuple and we want the pow(3). \n",
    "# t(2,3,4,12,56,78,12,45)"
   ]
  },
  {
   "cell_type": "code",
   "execution_count": 25,
   "id": "d8cac03b",
   "metadata": {},
   "outputs": [],
   "source": [
    "a = lambda *t : [i**3 for i in t]"
   ]
  },
  {
   "cell_type": "code",
   "execution_count": 26,
   "id": "2d7e3c50",
   "metadata": {},
   "outputs": [
    {
     "data": {
      "text/plain": [
       "[27, 8, 125, 216, 1, 729, 343, 8]"
      ]
     },
     "execution_count": 26,
     "metadata": {},
     "output_type": "execute_result"
    }
   ],
   "source": [
    "a(3,2,5,6,1,9,7,2)"
   ]
  },
  {
   "cell_type": "code",
   "execution_count": null,
   "id": "94a91217",
   "metadata": {},
   "outputs": [],
   "source": [
    "#  q1 : Try to print a prime number in between 1 to 1000\n",
    "#     q2 : Try to write a function which  is equivalent  to print function in python\n",
    "#     q3 : Try to write a function which is a replica of list append , extend and pop function \n",
    "#     q4 : Try to write a lambda function which can return a concatination of all the string that we will pass\n",
    "#     q5 : Try to write a lambda function which can return list of square of all the data between 1-100 \n",
    "#     q6 : Try to write a 10 Different different example of lambda function with a choice of your taks  "
   ]
  }
 ],
 "metadata": {
  "kernelspec": {
   "display_name": "Python 3 (ipykernel)",
   "language": "python",
   "name": "python3"
  },
  "language_info": {
   "codemirror_mode": {
    "name": "ipython",
    "version": 3
   },
   "file_extension": ".py",
   "mimetype": "text/x-python",
   "name": "python",
   "nbconvert_exporter": "python",
   "pygments_lexer": "ipython3",
   "version": "3.9.12"
  }
 },
 "nbformat": 4,
 "nbformat_minor": 5
}
