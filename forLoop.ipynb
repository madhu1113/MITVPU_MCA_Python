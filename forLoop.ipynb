{
 "cells": [
  {
   "cell_type": "code",
   "execution_count": 1,
   "id": "e64a91ed",
   "metadata": {},
   "outputs": [],
   "source": [
    "# Question 1.\n",
    "\n",
    "# Enter a decimal number. If that number is 0 it should print it's a positive no., else it's a negative no.\n",
    "# else it's a positive no.\n"
   ]
  },
  {
   "cell_type": "code",
   "execution_count": null,
   "id": "d25a72bb",
   "metadata": {},
   "outputs": [],
   "source": []
  },
  {
   "cell_type": "raw",
   "id": "0da7f0f6",
   "metadata": {},
   "source": []
  },
  {
   "cell_type": "code",
   "execution_count": 7,
   "id": "a8b2a2da",
   "metadata": {},
   "outputs": [
    {
     "name": "stdout",
     "output_type": "stream",
     "text": [
      "Enter a number-89\n",
      "the number is negvative\n"
     ]
    }
   ],
   "source": [
    "a = int (input(\"Enter a number\"))\n",
    "if a ==0:\n",
    "    print(\"The number is Zero\")\n",
    "elif a >0:\n",
    "    print(\"The number is positive\")\n",
    "else:\n",
    "    print(\"the number is negvative\")"
   ]
  },
  {
   "cell_type": "code",
   "execution_count": 8,
   "id": "c9682118",
   "metadata": {},
   "outputs": [
    {
     "name": "stdout",
     "output_type": "stream",
     "text": [
      "0\n",
      "The number is positive\n"
     ]
    }
   ],
   "source": [
    "a = int (input())\n",
    "if a >=0:\n",
    "    print(\"The number is positive\")\n",
    "else:\n",
    "    print(\"the number is negative\")"
   ]
  },
  {
   "cell_type": "raw",
   "id": "bb9a6582",
   "metadata": {},
   "source": []
  },
  {
   "cell_type": "code",
   "execution_count": 12,
   "id": "60890c36",
   "metadata": {},
   "outputs": [
    {
     "name": "stdout",
     "output_type": "stream",
     "text": [
      "-45\n",
      "the number is negative\n"
     ]
    }
   ],
   "source": [
    "a = int (input())\n",
    "if a ==0:\n",
    "    print(\"The number is zero\")\n",
    "elif a>0:\n",
    "    print(\"The Number is Positive\")\n",
    "else:\n",
    "    print(\"the number is negative\")"
   ]
  },
  {
   "cell_type": "raw",
   "id": "0b388583",
   "metadata": {},
   "source": [
    "Question 2\n",
    "Take a dictionary and check if all it's vaues are correct if so then print \"all the values are verified\" and print all the values otherwise print \"All the values are not verified.\""
   ]
  },
  {
   "cell_type": "raw",
   "id": "dbd8ce13",
   "metadata": {},
   "source": [
    "# Question 3: l = [3,4,5,63, \"Madhu\", \"Tejas\",\"Ritika\", \"Vaibhav\", 5.6, 78, 12 ]\n",
    "check if your name is there in list? if it's there print \"My name is there in list\" and print the values till your name. otherwise print my name is not there in the list."
   ]
  },
  {
   "cell_type": "raw",
   "id": "1c79c5ea",
   "metadata": {},
   "source": [
    " # Question 4 Ask user to enter it's name. ask user to enter an alphabet. Now check if that particular alphabet is there in your name or not? if yes then print \"your entire string\" else print \"it's not there in my name.\""
   ]
  },
  {
   "cell_type": "code",
   "execution_count": 14,
   "id": "187370c2",
   "metadata": {},
   "outputs": [
    {
     "name": "stdout",
     "output_type": "stream",
     "text": [
      "all the values are verified\n",
      "dict_values(['ritika', 'Solapur', 5])\n"
     ]
    }
   ],
   "source": [
    "dict={\"name\":\"ritika\",\"location\":\"Solapur\",\"rollno\":5} \n",
    "if dict:\n",
    "    print(\"all the values are verified\")                           \n",
    "    print(dict.values())\n",
    "else:\n",
    "    print(\"All the values are not verified.\")"
   ]
  },
  {
   "cell_type": "code",
   "execution_count": 20,
   "id": "a712a40a",
   "metadata": {},
   "outputs": [
    {
     "name": "stdout",
     "output_type": "stream",
     "text": [
      "All the details are verified\n",
      "dict_values(['vaibhav', '08', 'MCA'])\n"
     ]
    }
   ],
   "source": [
    "d={\"Name\":\"vaibhav\",\"Rollno\":'08',\"Class\":\"MCA\"}\n",
    "if d['Rollno']=='08' and d['Class']==\"MCA\" and d['Name']==\"vaibhav\":\n",
    "    print(\"All the details are verified\")\n",
    "    print(d.values())\n",
    "else:\n",
    "    print(\"All details not verified\")"
   ]
  },
  {
   "cell_type": "markdown",
   "id": "74522844",
   "metadata": {},
   "source": [
    "# for loop"
   ]
  },
  {
   "cell_type": "code",
   "execution_count": 21,
   "id": "898e41a4",
   "metadata": {},
   "outputs": [],
   "source": [
    "l = [1,2,3,4,\"Madhu\", \"Vaibhav\", \"Ritika\", 9.8, 34,True ]"
   ]
  },
  {
   "cell_type": "code",
   "execution_count": 26,
   "id": "f4b892e5",
   "metadata": {},
   "outputs": [
    {
     "data": {
      "text/plain": [
       "2"
      ]
     },
     "execution_count": 26,
     "metadata": {},
     "output_type": "execute_result"
    }
   ],
   "source": [
    "l.index(3)"
   ]
  },
  {
   "cell_type": "code",
   "execution_count": 22,
   "id": "1c1563f7",
   "metadata": {},
   "outputs": [
    {
     "name": "stdout",
     "output_type": "stream",
     "text": [
      "1\n",
      "2\n",
      "3\n",
      "4\n",
      "Madhu\n",
      "Vaibhav\n",
      "Ritika\n",
      "9.8\n",
      "34\n",
      "True\n"
     ]
    }
   ],
   "source": [
    "for i in l:\n",
    "    print(i)\n"
   ]
  },
  {
   "cell_type": "code",
   "execution_count": 30,
   "id": "587c71e0",
   "metadata": {},
   "outputs": [
    {
     "name": "stdout",
     "output_type": "stream",
     "text": [
      "1\n",
      "2\n",
      "3\n",
      "4\n",
      "Vaibhav\n",
      "Ritika\n",
      "9.8\n",
      "34\n",
      "True\n"
     ]
    }
   ],
   "source": [
    "# Q. Skip your name\n",
    "for i in l:\n",
    "    if i == \"Madhu\":\n",
    "        pass\n",
    "    else:\n",
    "        print(i)\n",
    "    "
   ]
  },
  {
   "cell_type": "code",
   "execution_count": 35,
   "id": "529e7916",
   "metadata": {},
   "outputs": [
    {
     "name": "stdout",
     "output_type": "stream",
     "text": [
      "Madhu\n"
     ]
    }
   ],
   "source": [
    "s = \"Ritika\""
   ]
  },
  {
   "cell_type": "code",
   "execution_count": 36,
   "id": "8bb99326",
   "metadata": {},
   "outputs": [],
   "source": [
    "# Q. If for loop exhaust it should print for loop exhausted otherwise print it got interrupted."
   ]
  },
  {
   "cell_type": "raw",
   "id": "7c17a676",
   "metadata": {},
   "source": [
    "# If your name is there in the list print till there othersise print \"this will execute only if for is going to complete itself\""
   ]
  },
  {
   "cell_type": "code",
   "execution_count": 38,
   "id": "809f6f5d",
   "metadata": {},
   "outputs": [
    {
     "name": "stdout",
     "output_type": "stream",
     "text": [
      "['R']\n",
      "['i']\n",
      "['t']\n",
      "['i']\n",
      "['k']\n",
      "['a']\n"
     ]
    }
   ],
   "source": [
    "s=\"Ritika\"\n",
    "for a in s:\n",
    "    print(a.split())"
   ]
  },
  {
   "cell_type": "code",
   "execution_count": 39,
   "id": "d9e92116",
   "metadata": {},
   "outputs": [
    {
     "name": "stdout",
     "output_type": "stream",
     "text": [
      "R\n",
      "i\n",
      "t\n",
      "i\n",
      "k\n",
      "a\n"
     ]
    }
   ],
   "source": [
    "s=\"Ritika\"\n",
    "for a in s:\n",
    "    \n",
    "    print(a)"
   ]
  },
  {
   "cell_type": "code",
   "execution_count": 40,
   "id": "879907dd",
   "metadata": {},
   "outputs": [
    {
     "data": {
      "text/plain": [
       "[1, 2, 3, 4, 'Madhu', 'Vaibhav', 'Ritika', 9.8, 34, True]"
      ]
     },
     "execution_count": 40,
     "metadata": {},
     "output_type": "execute_result"
    }
   ],
   "source": [
    "l"
   ]
  },
  {
   "cell_type": "code",
   "execution_count": 50,
   "id": "df3f291e",
   "metadata": {},
   "outputs": [],
   "source": [
    "for i in l:\n",
    "    if i == \"Madhu\":\n",
    "        break\n",
    "    \n",
    "else:\n",
    "    print(\"Tejas is not in the list\")"
   ]
  },
  {
   "cell_type": "code",
   "execution_count": 51,
   "id": "d57e4d18",
   "metadata": {},
   "outputs": [],
   "source": [
    "# Same thing do with string"
   ]
  },
  {
   "cell_type": "code",
   "execution_count": 60,
   "id": "9abd69a8",
   "metadata": {},
   "outputs": [
    {
     "name": "stdout",
     "output_type": "stream",
     "text": [
      "vaibhav\n"
     ]
    }
   ],
   "source": [
    "a=\"vaibhav\"\n",
    "for i in a:\n",
    "    if i==\"t\":\n",
    "        print(\"loop broke\")\n",
    "        break\n",
    "else:\n",
    "    print(a)"
   ]
  },
  {
   "cell_type": "code",
   "execution_count": null,
   "id": "0d539a0e",
   "metadata": {},
   "outputs": [],
   "source": []
  },
  {
   "cell_type": "code",
   "execution_count": 56,
   "id": "6ce67d1b",
   "metadata": {},
   "outputs": [
    {
     "name": "stdout",
     "output_type": "stream",
     "text": [
      "Loop Exhaust\n"
     ]
    }
   ],
   "source": [
    "for i in l:\n",
    "    if i == \"Namdev\":\n",
    "        break\n",
    "else:\n",
    "    print(\"Loop Exhaust\")"
   ]
  },
  {
   "cell_type": "code",
   "execution_count": 61,
   "id": "951df04c",
   "metadata": {},
   "outputs": [
    {
     "name": "stdout",
     "output_type": "stream",
     "text": [
      "exhaust\n"
     ]
    }
   ],
   "source": [
    "l=[1,2,3,\"Ritika\",\"ABC\"]\n",
    "for b in l:\n",
    "    if b == \"Madhu\":        \n",
    "           print(\"In the list\")\n",
    "\n",
    "           break  \n",
    "else:\n",
    "    print(\"exhaust\")"
   ]
  },
  {
   "cell_type": "code",
   "execution_count": 64,
   "id": "7c8300bb",
   "metadata": {},
   "outputs": [],
   "source": [
    "# For loop over tuple\n",
    "t = (4,5,6,\"Madhu\", 5,3,2)"
   ]
  },
  {
   "cell_type": "code",
   "execution_count": 65,
   "id": "179fa3ff",
   "metadata": {},
   "outputs": [
    {
     "name": "stdout",
     "output_type": "stream",
     "text": [
      "4\n",
      "5\n",
      "6\n",
      "Madhu\n",
      "5\n",
      "3\n",
      "2\n"
     ]
    }
   ],
   "source": [
    "for i in t:\n",
    "    print(i)"
   ]
  },
  {
   "cell_type": "code",
   "execution_count": 71,
   "id": "a15cf595",
   "metadata": {},
   "outputs": [
    {
     "name": "stdout",
     "output_type": "stream",
     "text": [
      "{True, 3, 4, 5, 6, 6.55, 'sjdbv'}\n"
     ]
    }
   ],
   "source": [
    "# for loop over set\n",
    "s = {3,4,5,6,\"sjdbv\", True, 6.55}\n",
    "print(s)"
   ]
  },
  {
   "cell_type": "code",
   "execution_count": 72,
   "id": "d3345461",
   "metadata": {},
   "outputs": [
    {
     "data": {
      "text/plain": [
       "set"
      ]
     },
     "execution_count": 72,
     "metadata": {},
     "output_type": "execute_result"
    }
   ],
   "source": [
    "type(s)"
   ]
  },
  {
   "cell_type": "code",
   "execution_count": 73,
   "id": "60960bfe",
   "metadata": {},
   "outputs": [
    {
     "name": "stdout",
     "output_type": "stream",
     "text": [
      "True\n",
      "3\n",
      "4\n",
      "5\n",
      "6\n",
      "6.55\n",
      "sjdbv\n"
     ]
    }
   ],
   "source": [
    "for i in s:\n",
    "    print(i)"
   ]
  },
  {
   "cell_type": "code",
   "execution_count": 74,
   "id": "4f09027f",
   "metadata": {},
   "outputs": [],
   "source": [
    "# Q.  Iterate for loop over Dictionary and give me all the key and value pair."
   ]
  },
  {
   "cell_type": "code",
   "execution_count": 79,
   "id": "739bcbdb",
   "metadata": {},
   "outputs": [
    {
     "name": "stdout",
     "output_type": "stream",
     "text": [
      "name : Ritika\n",
      "Roll no : 5\n",
      "class : MCA\n"
     ]
    }
   ],
   "source": [
    "d = {\"name\" : \"Ritika\", \"Roll no\": 5, \"class\": \"MCA\"}\n",
    "for i in d:\n",
    "    print(i, \":\", d[i])"
   ]
  },
  {
   "cell_type": "code",
   "execution_count": 80,
   "id": "cae31ac6",
   "metadata": {},
   "outputs": [
    {
     "data": {
      "text/plain": [
       "range(0, 9)"
      ]
     },
     "execution_count": 80,
     "metadata": {},
     "output_type": "execute_result"
    }
   ],
   "source": [
    "range(9)"
   ]
  },
  {
   "cell_type": "code",
   "execution_count": 81,
   "id": "795a772c",
   "metadata": {},
   "outputs": [
    {
     "data": {
      "text/plain": [
       "[0, 1, 2, 3, 4, 5, 6, 7, 8]"
      ]
     },
     "execution_count": 81,
     "metadata": {},
     "output_type": "execute_result"
    }
   ],
   "source": [
    "list(range(9))"
   ]
  },
  {
   "cell_type": "code",
   "execution_count": 83,
   "id": "4a5d95fb",
   "metadata": {},
   "outputs": [
    {
     "data": {
      "text/plain": [
       "[3, 5, 7]"
      ]
     },
     "execution_count": 83,
     "metadata": {},
     "output_type": "execute_result"
    }
   ],
   "source": [
    "list(range(3,9,2))"
   ]
  },
  {
   "cell_type": "code",
   "execution_count": 84,
   "id": "6662bac3",
   "metadata": {},
   "outputs": [
    {
     "data": {
      "text/plain": [
       "[]"
      ]
     },
     "execution_count": 84,
     "metadata": {},
     "output_type": "execute_result"
    }
   ],
   "source": [
    "list(range(3,9,-1))"
   ]
  },
  {
   "cell_type": "code",
   "execution_count": 87,
   "id": "2f083567",
   "metadata": {},
   "outputs": [
    {
     "data": {
      "text/plain": [
       "[9, 7, 5, 3]"
      ]
     },
     "execution_count": 87,
     "metadata": {},
     "output_type": "execute_result"
    }
   ],
   "source": [
    "list(range(9,2,-2))"
   ]
  },
  {
   "cell_type": "raw",
   "id": "93d71cbc",
   "metadata": {},
   "source": [
    "\n"
   ]
  },
  {
   "cell_type": "code",
   "execution_count": 88,
   "id": "286ad2b9",
   "metadata": {},
   "outputs": [
    {
     "name": "stdout",
     "output_type": "stream",
     "text": [
      "Madhu    \n",
      "\n",
      "Madhu    Madhu    \n",
      "\n",
      "Madhu    Madhu    Madhu    \n",
      "\n",
      "Madhu    Madhu    Madhu    Madhu    \n",
      "\n"
     ]
    }
   ],
   "source": [
    "for i in range(4):\n",
    "    for j in range(0, i+1):\n",
    "        print(\"Madhu\", end = \"    \")\n",
    "    print(\"\\n\")"
   ]
  },
  {
   "cell_type": "code",
   "execution_count": null,
   "id": "d1f67401",
   "metadata": {},
   "outputs": [],
   "source": [
    "                Madhu\n",
    "        Madhu   Madhu   Madhu\n",
    "Madhu   Madhu   Madhu   Madhu   Madhu"
   ]
  },
  {
   "cell_type": "code",
   "execution_count": null,
   "id": "f62c032d",
   "metadata": {},
   "outputs": [],
   "source": [
    "n = input(\"Enter the value of n\")\n",
    "for i in range(0, n-1):\n",
    "    for j in range()"
   ]
  },
  {
   "cell_type": "code",
   "execution_count": null,
   "id": "f4b09242",
   "metadata": {},
   "outputs": [],
   "source": [
    "Madhu\n",
    "Madhu   Madhu\n",
    "Madhu   Madhu   Madhu\n",
    "Madhu   Madhu   Madhu    Madhu"
   ]
  },
  {
   "cell_type": "code",
   "execution_count": 91,
   "id": "fa5b0a03",
   "metadata": {},
   "outputs": [
    {
     "data": {
      "text/plain": [
       "[0, 1, 2, 3]"
      ]
     },
     "execution_count": 91,
     "metadata": {},
     "output_type": "execute_result"
    }
   ],
   "source": [
    "list(range(4))"
   ]
  },
  {
   "cell_type": "code",
   "execution_count": 93,
   "id": "4f1f925e",
   "metadata": {},
   "outputs": [
    {
     "name": "stdout",
     "output_type": "stream",
     "text": [
      "Madhu   \n",
      "\n",
      "Madhu   Madhu   \n",
      "\n",
      "Madhu   Madhu   Madhu   \n",
      "\n",
      "Madhu   Madhu   Madhu   Madhu   \n",
      "\n"
     ]
    }
   ],
   "source": [
    "for i in range(4):\n",
    "    for j in range(0, i+1):\n",
    "        print(\"Madhu\", end = \"   \" )\n",
    "    print(\"\\n\")\n",
    "        "
   ]
  },
  {
   "cell_type": "code",
   "execution_count": 94,
   "id": "98b48c7f",
   "metadata": {},
   "outputs": [
    {
     "name": "stdout",
     "output_type": "stream",
     "text": [
      "7\n",
      "Vaibhaav   \n",
      "\n",
      "Vaibhaav   Vaibhaav   \n",
      "\n",
      "Vaibhaav   Vaibhaav   Vaibhaav   \n",
      "\n",
      "Vaibhaav   Vaibhaav   Vaibhaav   Vaibhaav   \n",
      "\n",
      "Vaibhaav   Vaibhaav   Vaibhaav   Vaibhaav   Vaibhaav   \n",
      "\n",
      "Vaibhaav   Vaibhaav   Vaibhaav   Vaibhaav   Vaibhaav   Vaibhaav   \n",
      "\n",
      "Vaibhaav   Vaibhaav   Vaibhaav   Vaibhaav   Vaibhaav   Vaibhaav   Vaibhaav   \n",
      "\n"
     ]
    }
   ],
   "source": [
    "n=int(input())\n",
    "for i in range(n):\n",
    "    for j in range(0, i+1):\n",
    "        print(\"Vaibhaav\", end = \"   \" )\n",
    "    print(\"\\n\")"
   ]
  },
  {
   "cell_type": "code",
   "execution_count": null,
   "id": "0244021e",
   "metadata": {},
   "outputs": [],
   "source": [
    "#               Madhu\n",
    "#         Madhu Madhu Madhu\n",
    "#   Madhu Madhu Madhu Madhu Madhu"
   ]
  },
  {
   "cell_type": "code",
   "execution_count": 112,
   "id": "e42f78d2",
   "metadata": {},
   "outputs": [
    {
     "name": "stdout",
     "output_type": "stream",
     "text": [
      "              Madhu  \n",
      "       Madhu  Madhu  Madhu  \n",
      "Madhu  Madhu  Madhu  Madhu  Madhu  \n"
     ]
    }
   ],
   "source": [
    "n = 3\n",
    "for i in range(n):\n",
    "    for j in range(i, n-1):\n",
    "        print(\" \"*len(\"Madhu\"), end = \"  \")\n",
    "    for j in range(i+1):\n",
    "        print(\"Madhu\", end = \"  \")\n",
    "    for j in range(i):\n",
    "        print(\"Madhu\", end = \"  \")\n",
    "    print( )\n",
    "        \n",
    "    \n",
    "        "
   ]
  },
  {
   "cell_type": "code",
   "execution_count": 113,
   "id": "80906230",
   "metadata": {},
   "outputs": [
    {
     "data": {
      "text/plain": [
       "[0, 1, 2]"
      ]
     },
     "execution_count": 113,
     "metadata": {},
     "output_type": "execute_result"
    }
   ],
   "source": [
    "n=3\n",
    "list(range(n))"
   ]
  },
  {
   "cell_type": "code",
   "execution_count": 119,
   "id": "0896a9c7",
   "metadata": {},
   "outputs": [
    {
     "name": "stdout",
     "output_type": "stream",
     "text": [
      "              Madhu  \n",
      "       Madhu  Madhu  Madhu  \n",
      "Madhu  Madhu  Madhu  Madhu  Madhu  \n"
     ]
    }
   ],
   "source": [
    "n = 3\n",
    "for i in range(n):\n",
    "    for j in range(i, n-1):\n",
    "        print(\" \"*len(\"Madhu\"), end = \"  \")\n",
    "    for j in range(i+1):\n",
    "        print(\"Madhu\", end = \"  \")\n",
    "    for j in range(i):\n",
    "        print(\"Madhu\", end = \"  \")\n",
    "    print()\n",
    "    "
   ]
  },
  {
   "cell_type": "raw",
   "id": "dcb68bb7",
   "metadata": {},
   "source": [
    "Homework:- 5\n",
    "       *\n",
    "     * * *\n",
    "   * * * * *\n",
    "     * * *\n",
    "       *\n",
    "      "
   ]
  },
  {
   "cell_type": "code",
   "execution_count": 121,
   "id": "d0f39192",
   "metadata": {},
   "outputs": [],
   "source": [
    "t = (2,3,4,5, \"Tejas\", \"Ritika\", 90,23, \"Vaibhav\")"
   ]
  },
  {
   "cell_type": "code",
   "execution_count": 122,
   "id": "dac80bec",
   "metadata": {},
   "outputs": [],
   "source": [
    "# Question:- Print index and it's value"
   ]
  },
  {
   "cell_type": "code",
   "execution_count": null,
   "id": "f2cb996b",
   "metadata": {},
   "outputs": [],
   "source": [
    "# Question:-->Print your name's alphabet with it's index"
   ]
  },
  {
   "cell_type": "code",
   "execution_count": null,
   "id": "7fed489c",
   "metadata": {},
   "outputs": [],
   "source": [
    "# Question:---> print the reverse of your name's alphabet and it's index"
   ]
  },
  {
   "cell_type": "code",
   "execution_count": 123,
   "id": "1d7d3b78",
   "metadata": {},
   "outputs": [],
   "source": [
    "# Question:---> Take a dictionary now print each element in the form of tuple with it's type."
   ]
  },
  {
   "cell_type": "code",
   "execution_count": 142,
   "id": "7ba9d2ce",
   "metadata": {},
   "outputs": [],
   "source": [
    "#  Take a list if there is integer value in the list then put it in another list."
   ]
  },
  {
   "cell_type": "code",
   "execution_count": 141,
   "id": "918ab7eb",
   "metadata": {},
   "outputs": [
    {
     "data": {
      "text/plain": [
       "'Ritika'"
      ]
     },
     "execution_count": 141,
     "metadata": {},
     "output_type": "execute_result"
    }
   ],
   "source": [
    "t"
   ]
  },
  {
   "cell_type": "code",
   "execution_count": 129,
   "id": "145ba8eb",
   "metadata": {},
   "outputs": [
    {
     "data": {
      "text/plain": [
       "range(0, 9)"
      ]
     },
     "execution_count": 129,
     "metadata": {},
     "output_type": "execute_result"
    }
   ],
   "source": [
    "range(len(t))"
   ]
  },
  {
   "cell_type": "code",
   "execution_count": 130,
   "id": "dc73acdd",
   "metadata": {},
   "outputs": [
    {
     "name": "stdout",
     "output_type": "stream",
     "text": [
      "2 0\n",
      "3 1\n",
      "4 2\n",
      "5 3\n",
      "Tejas 4\n",
      "Ritika 5\n",
      "90 6\n",
      "23 7\n",
      "Vaibhav 8\n"
     ]
    }
   ],
   "source": [
    "for i in range(len(t)):\n",
    "    print(t[i], i)"
   ]
  },
  {
   "cell_type": "code",
   "execution_count": 132,
   "id": "ad3f9e67",
   "metadata": {},
   "outputs": [
    {
     "name": "stdout",
     "output_type": "stream",
     "text": [
      "R 0\n",
      "i 1\n",
      "t 2\n",
      "i 3\n",
      "k 4\n",
      "a 5\n"
     ]
    }
   ],
   "source": [
    "t=\"Ritika\"\n",
    "for i in range(len(t)):\n",
    "    print(t[i], i)"
   ]
  },
  {
   "cell_type": "code",
   "execution_count": 136,
   "id": "86fb9e14",
   "metadata": {},
   "outputs": [
    {
     "data": {
      "text/plain": [
       "[6, 5, 4, 3, 2, 1, 0]"
      ]
     },
     "execution_count": 136,
     "metadata": {},
     "output_type": "execute_result"
    }
   ],
   "source": [
    "list(range(len(t), -1, -1))"
   ]
  },
  {
   "cell_type": "code",
   "execution_count": 138,
   "id": "a1b08496",
   "metadata": {},
   "outputs": [
    {
     "name": "stdout",
     "output_type": "stream",
     "text": [
      "a 0\n",
      "R 1\n",
      "i 2\n",
      "t 3\n",
      "i 4\n",
      "k 5\n"
     ]
    }
   ],
   "source": [
    "t=\"Ritika\"\n",
    "for i in range(len(t)):    \n",
    "    print(t[i-1], i)"
   ]
  },
  {
   "cell_type": "code",
   "execution_count": null,
   "id": "963732b7",
   "metadata": {},
   "outputs": [],
   "source": [
    "# # Question: \n",
    "#     d = {6:54674, \"name\": \"Madhu\", 5:\"346335\", \"workAt\":\"MITVPU\"}\n",
    "# check if the key of dictionary is integer then print key and it's value.\n",
    "    "
   ]
  },
  {
   "cell_type": "code",
   "execution_count": 143,
   "id": "06f3963a",
   "metadata": {},
   "outputs": [
    {
     "name": "stdout",
     "output_type": "stream",
     "text": [
      "name\n",
      "Roll no\n",
      "class\n"
     ]
    }
   ],
   "source": [
    "Question"
   ]
  },
  {
   "cell_type": "code",
   "execution_count": 145,
   "id": "2b758ab6",
   "metadata": {},
   "outputs": [],
   "source": [
    "s = \"Madhu\""
   ]
  },
  {
   "cell_type": "code",
   "execution_count": 152,
   "id": "e306646f",
   "metadata": {},
   "outputs": [
    {
     "data": {
      "text/plain": [
       "[4, 3, 2, 1, 0]"
      ]
     },
     "execution_count": 152,
     "metadata": {},
     "output_type": "execute_result"
    }
   ],
   "source": [
    "list(range(len(s)-1,-1,-1))"
   ]
  },
  {
   "cell_type": "code",
   "execution_count": 153,
   "id": "f42169f5",
   "metadata": {},
   "outputs": [
    {
     "name": "stdout",
     "output_type": "stream",
     "text": [
      "4 u\n",
      "3 h\n",
      "2 d\n",
      "1 a\n",
      "0 M\n"
     ]
    }
   ],
   "source": [
    "for i in range(len(s)-1,-1,-1):\n",
    "    print(i, s[i])\n"
   ]
  },
  {
   "cell_type": "code",
   "execution_count": null,
   "id": "e4ed954f",
   "metadata": {},
   "outputs": [],
   "source": [
    "\n",
    "# Homework:- 5\n",
    "#        *\n",
    "#      * * *\n",
    "#    * * * * *\n",
    "#      * * *\n",
    "#        *\n",
    "# Question:---> Take a dictionary now print each element in the form of tuple with it's type.\n",
    "#  Take a list if there is integer value in the list then put it in another list.\n",
    "# # Question: \n",
    "#     d = {6:54674, \"name\": \"Madhu\", 5:\"346335\", \"workAt\":\"MITVPU\"}\n",
    "# check if the key of dictionary is integer then print key and it's value."
   ]
  }
 ],
 "metadata": {
  "kernelspec": {
   "display_name": "Python 3 (ipykernel)",
   "language": "python",
   "name": "python3"
  },
  "language_info": {
   "codemirror_mode": {
    "name": "ipython",
    "version": 3
   },
   "file_extension": ".py",
   "mimetype": "text/x-python",
   "name": "python",
   "nbconvert_exporter": "python",
   "pygments_lexer": "ipython3",
   "version": "3.9.12"
  }
 },
 "nbformat": 4,
 "nbformat_minor": 5
}
